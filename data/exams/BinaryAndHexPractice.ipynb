{
 "cells": [
  {
   "cell_type": "markdown",
   "metadata": {
    "deletable": false,
    "editable": false
   },
   "source": [
    "# Binary and Hex Conversion Practice for Exam II\n",
    "\n"
   ]
  },
  {
   "cell_type": "code",
   "execution_count": null,
   "metadata": {
    "deletable": false,
    "editable": false
   },
   "outputs": [],
   "source": [
    "import random"
   ]
  },
  {
   "cell_type": "markdown",
   "metadata": {
    "deletable": false,
    "editable": false
   },
   "source": [
    "## Practice: Convert from decimal to binary\n",
    "\n",
    "Enter the binary value of the requested number, and press enter to see if your answer is correct. Do not include any leading 0's. For example, the binary value of three should be written as '11' instead of '011'."
   ]
  },
  {
   "cell_type": "code",
   "execution_count": null,
   "metadata": {
    "deletable": false,
    "editable": false
   },
   "outputs": [],
   "source": [
    "num = random.randint(0, 63)\n",
    "binary = format(num, 'b')\n",
    "\n",
    "print('What is the binary value of the decimal number:',  num)\n",
    "answer = input('Answer: ')\n",
    "\n",
    "if answer == binary :\n",
    "    print('Great job! -- ', end = '')\n",
    "else :\n",
    "    print(\"That is not correct -- \", end = '')\n",
    "\n",
    "print('The binary value of', num, 'is', binary)"
   ]
  },
  {
   "cell_type": "code",
   "execution_count": null,
   "metadata": {},
   "outputs": [],
   "source": []
  },
  {
   "cell_type": "markdown",
   "metadata": {
    "deletable": false,
    "editable": false
   },
   "source": [
    "## Practice: Convert from binary to decimal\n",
    "\n",
    "Enter the decimal value of the requested binary number, and press enter to see if your answer is correct. "
   ]
  },
  {
   "cell_type": "code",
   "execution_count": null,
   "metadata": {
    "deletable": false,
    "editable": false
   },
   "outputs": [],
   "source": [
    "num = random.randint(0, 63)\n",
    "binary = format(num, 'b')\n",
    "\n",
    "print('What is the decimal value of the binary number:',  binary)\n",
    "answer = input('Answer: ')\n",
    "\n",
    "answer = answer.strip() # remove leading/trailing whitespace\n",
    "\n",
    "if answer.isdigit() and int(answer) == num :\n",
    "    print('Great job! -- ', end = '')\n",
    "else :\n",
    "    print(\"That is not correct -- \", end = '')\n",
    "\n",
    "print('The decimal value of', binary, 'is', num)"
   ]
  },
  {
   "cell_type": "code",
   "execution_count": null,
   "metadata": {},
   "outputs": [],
   "source": []
  },
  {
   "cell_type": "markdown",
   "metadata": {
    "deletable": false,
    "editable": false
   },
   "source": [
    "## Practice: Convert from hex to decimal\n",
    "\n",
    "Enter the decimal value of the requested hexadecimal number, and press enter to see if your answer is correct. "
   ]
  },
  {
   "cell_type": "code",
   "execution_count": null,
   "metadata": {
    "deletable": false,
    "editable": false
   },
   "outputs": [],
   "source": [
    "num = random.randint(0, 4095)\n",
    "hex = format(num, 'x').upper()\n",
    "\n",
    "print('What is the decimal value of the hex number:',  hex)\n",
    "answer = input('Answer: ')\n",
    "\n",
    "answer = answer.strip() # remove leading/trailing whitespace\n",
    "\n",
    "if answer.isdigit() and int(answer) == num :\n",
    "    print('Great job! -- ', end = '')\n",
    "else :\n",
    "    print(\"That is not correct -- \", end = '')\n",
    "\n",
    "print('The decimal value of', hex, 'is', num)"
   ]
  },
  {
   "cell_type": "code",
   "execution_count": null,
   "metadata": {},
   "outputs": [],
   "source": []
  },
  {
   "cell_type": "markdown",
   "metadata": {
    "deletable": false,
    "editable": false
   },
   "source": [
    "## Practice: Finding the two's complement\n",
    "\n",
    "Find the two's complement of the given binary number, where *N = 6* bits are used to store the number in binary. The easiest way to find the two's complement is by 1) inverting each of the bits and 2) adding 1 to the result."
   ]
  },
  {
   "cell_type": "code",
   "execution_count": null,
   "metadata": {
    "deletable": false,
    "editable": false
   },
   "outputs": [],
   "source": [
    "num = random.randint(0, 31)\n",
    "binary = format(num, 'b')\n",
    "\n",
    "binary = f'{binary:>06}'\n",
    "\n",
    "print('What is the two\\'s complement of the binary number:',  binary)\n",
    "answer = input('Answer: ')\n",
    "answer = answer.strip() # remove leading/trailing whitespace\n",
    "\n",
    "\n",
    "diff = 2**6 - num\n",
    "twos_complement = format(diff, 'b')\n",
    "\n",
    "if answer == twos_complement :\n",
    "    print('Great job! -- ', end = '')\n",
    "else :\n",
    "    print(\"That is not correct -- \", end = '')\n",
    "\n",
    "print('The two\\'s complement of', binary, 'is', twos_complement)"
   ]
  },
  {
   "cell_type": "code",
   "execution_count": null,
   "metadata": {},
   "outputs": [],
   "source": []
  }
 ],
 "metadata": {
  "kernelspec": {
   "display_name": "Python 3",
   "language": "python",
   "name": "python3"
  },
  "language_info": {
   "codemirror_mode": {
    "name": "ipython",
    "version": 3
   },
   "file_extension": ".py",
   "mimetype": "text/x-python",
   "name": "python",
   "nbconvert_exporter": "python",
   "pygments_lexer": "ipython3",
   "version": "3.8.3"
  }
 },
 "nbformat": 4,
 "nbformat_minor": 4
}
