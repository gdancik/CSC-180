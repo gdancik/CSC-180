{
 "cells": [
  {
   "cell_type": "markdown",
   "metadata": {},
   "source": [
    "# Cleanup algorithm practice\n",
    "\n",
    "The code below implements *shuffle left*, *copy over*, and the *converging pointers* algorithms to clean up a list of integers (0 values are 'removed')."
   ]
  },
  {
   "cell_type": "markdown",
   "metadata": {},
   "source": [
    "## Shuffle left code"
   ]
  },
  {
   "cell_type": "code",
   "execution_count": null,
   "metadata": {
    "deletable": false,
    "editable": false
   },
   "outputs": [],
   "source": [
    "# the shuffle left algorithm\n",
    "def shuffle_left(l) :\n",
    "    \n",
    "    print('applying shuffle left on list:', l)\n",
    "    num_valid = len(l)\n",
    "    position = 0\n",
    "    iteration = 0\n",
    "    while position < num_valid :\n",
    "        if l[position] == 0 :\n",
    "            print('\\tcopy_left from index: ', position)\n",
    "            copy_left(l, position)\n",
    "            num_valid = num_valid - 1\n",
    "        else :\n",
    "            position = position + 1     \n",
    "        iteration = iteration + 1\n",
    "        print('after iteration ', iteration, ', list =', l, ' and num_valid = ', num_valid, sep = '')\n",
    "       \n",
    "    return num_valid\n",
    "\n",
    "# helper function to copy left each element of 'l' starting at index 'i'\n",
    "def copy_left(l,i) :\n",
    "    for index in range(i, len(l)-1) :\n",
    "        l[index] = l[index+1]\n",
    "        "
   ]
  },
  {
   "cell_type": "markdown",
   "metadata": {},
   "source": [
    "### Example of calling *shuffle_left*"
   ]
  },
  {
   "cell_type": "code",
   "execution_count": null,
   "metadata": {
    "scrolled": true
   },
   "outputs": [],
   "source": [
    "mylist = [0, 2, 0, 4, 0]\n",
    "nval = shuffle_left(mylist)"
   ]
  },
  {
   "cell_type": "markdown",
   "metadata": {
    "deletable": false,
    "editable": false
   },
   "source": [
    "## Copy Over code"
   ]
  },
  {
   "cell_type": "code",
   "execution_count": null,
   "metadata": {
    "deletable": false,
    "editable": false
   },
   "outputs": [],
   "source": [
    "def copyOver(l) :    \n",
    "    \n",
    "    print('applying copyOver on', l, '\\n')\n",
    "    \n",
    "    num_valid = 0\n",
    "    for element in l :\n",
    "        if element != 0: \n",
    "            num_valid = num_valid + 1\n",
    "        \n",
    "    copyList = [None] * num_valid\n",
    "    \n",
    "    print('initial copyList = ', copyList)\n",
    "    num_valid = 0\n",
    "    iteration = 0\n",
    "    for element in l :\n",
    "        if element != 0: \n",
    "            copyList[num_valid] = element\n",
    "            num_valid = num_valid + 1\n",
    "        iteration = iteration + 1  \n",
    "        print('after iteration = ', iteration, ', copyList = ', copyList, sep = '')\n",
    " \n",
    "    return copyList"
   ]
  },
  {
   "cell_type": "markdown",
   "metadata": {},
   "source": [
    "### Example of calling *copyOver*"
   ]
  },
  {
   "cell_type": "code",
   "execution_count": null,
   "metadata": {},
   "outputs": [],
   "source": [
    "mylist = [0, 2, 0, 4, 0]\n",
    "newList = copyOver(mylist)"
   ]
  },
  {
   "cell_type": "markdown",
   "metadata": {
    "deletable": false,
    "editable": false
   },
   "source": [
    "## Converging Pointers code"
   ]
  },
  {
   "cell_type": "code",
   "execution_count": null,
   "metadata": {
    "deletable": false,
    "editable": false
   },
   "outputs": [],
   "source": [
    "def converging_pointers(number) :    \n",
    "    \n",
    "    print('applying converging pointers on list:', number)\n",
    "    left = 0\n",
    "    right = len(number) - 1\n",
    "    num_valid = len(number)\n",
    "    iteration = 0\n",
    "    while left < right :\n",
    "        if number[left] != 0 :\n",
    "            left = left + 1\n",
    "            print('\\tincrease left index by 1')\n",
    "        else :\n",
    "            print('\\treplacing', number[left], 'at index', left, \n",
    "                  'with', number[right], 'from index', right)\n",
    "            number[left] = number[right]           \n",
    "            right = right - 1\n",
    "            print('\\tdecreasing right index by 1')\n",
    "            num_valid = num_valid - 1 \n",
    "            \n",
    "        iteration = iteration + 1            \n",
    "        print('after iteration =', iteration, ' (l,r) = (' + str(left) + ',' + str(right) + '), list = ', number)\n",
    " \n",
    "    if number[left] == 0 :\n",
    "        num_valid = num_valid - 1\n",
    "    return num_valid"
   ]
  },
  {
   "cell_type": "markdown",
   "metadata": {
    "deletable": false,
    "editable": false
   },
   "source": [
    "### Example of calling *converging_pointers*"
   ]
  },
  {
   "cell_type": "code",
   "execution_count": null,
   "metadata": {},
   "outputs": [],
   "source": [
    "mylist = [0, 2, 0, 4, 0]\n",
    "nval = converging_pointers(mylist)"
   ]
  },
  {
   "cell_type": "code",
   "execution_count": null,
   "metadata": {},
   "outputs": [],
   "source": []
  }
 ],
 "metadata": {
  "kernelspec": {
   "display_name": "Python 3",
   "language": "python",
   "name": "python3"
  },
  "language_info": {
   "codemirror_mode": {
    "name": "ipython",
    "version": 3
   },
   "file_extension": ".py",
   "mimetype": "text/x-python",
   "name": "python",
   "nbconvert_exporter": "python",
   "pygments_lexer": "ipython3",
   "version": "3.8.3"
  }
 },
 "nbformat": 4,
 "nbformat_minor": 5
}
