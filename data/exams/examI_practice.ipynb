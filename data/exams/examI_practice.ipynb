{
 "cells": [
  {
   "cell_type": "markdown",
   "metadata": {
    "deletable": false,
    "editable": false
   },
   "source": [
    "# CSC 180, Exam I Practice"
   ]
  },
  {
   "cell_type": "markdown",
   "metadata": {
    "deletable": false,
    "editable": false
   },
   "source": [
    "### Name: (Enter Name here)"
   ]
  },
  {
   "cell_type": "markdown",
   "metadata": {
    "deletable": false,
    "editable": false
   },
   "source": [
    "### Question 1\n",
    "\n",
    "Write a statement in Python to output the following:\n",
    "\n",
    "```\n",
    "This is how to print in Python\n",
    "```"
   ]
  },
  {
   "cell_type": "code",
   "execution_count": null,
   "metadata": {},
   "outputs": [],
   "source": []
  },
  {
   "cell_type": "markdown",
   "metadata": {
    "deletable": false,
    "editable": false
   },
   "source": [
    "### Question 2\n",
    "\n",
    "Write a statement in Python that outputs a person's birthday as follows, using the variables below:\n",
    "\n",
    "```\n",
    "Your birthday is 1/19/2000.\n",
    "```"
   ]
  },
  {
   "cell_type": "code",
   "execution_count": null,
   "metadata": {
    "deletable": false,
    "editable": false
   },
   "outputs": [],
   "source": [
    "month = 1\n",
    "day = 19\n",
    "year = 2000"
   ]
  },
  {
   "cell_type": "code",
   "execution_count": null,
   "metadata": {},
   "outputs": [],
   "source": []
  },
  {
   "cell_type": "markdown",
   "metadata": {
    "deletable": false,
    "editable": false
   },
   "source": [
    "### Question 3\n",
    "\n",
    "Write an algorithm that gets 2 strings from the user, and outputs the longest string. Then write the Python code that corresponds to your algorithm."
   ]
  },
  {
   "cell_type": "markdown",
   "metadata": {},
   "source": [
    "(write algorithm here)"
   ]
  },
  {
   "cell_type": "code",
   "execution_count": null,
   "metadata": {},
   "outputs": [],
   "source": []
  },
  {
   "cell_type": "markdown",
   "metadata": {
    "deletable": false,
    "editable": false
   },
   "source": [
    "### Question 4\n",
    "\n",
    "Write an algorithm that gets 3 strings from the user, and outputs the longest string. Your algorithm must contain a loop, i.e., *Repeat 3 times*. Then write the Python code that corresponds to your algorithm.\n"
   ]
  },
  {
   "cell_type": "markdown",
   "metadata": {},
   "source": [
    "(write algorithm here)"
   ]
  },
  {
   "cell_type": "code",
   "execution_count": null,
   "metadata": {},
   "outputs": [],
   "source": []
  },
  {
   "cell_type": "markdown",
   "metadata": {
    "deletable": false,
    "editable": false
   },
   "source": [
    "### Question 5\n",
    "\n",
    "Write an algorithm that gets 3 numbers from the user, and then outputs the sum, after discarding the maximum value. For example, if the 3 numbers are 3, 50, and 2, then the sum is 5 (3 and 2 are added; and 50 is discarded). Then write the Python code that corresponds to your algorithm."
   ]
  },
  {
   "cell_type": "markdown",
   "metadata": {},
   "source": [
    "(write algorithm here)"
   ]
  },
  {
   "cell_type": "code",
   "execution_count": null,
   "metadata": {},
   "outputs": [],
   "source": []
  },
  {
   "cell_type": "markdown",
   "metadata": {
    "deletable": false,
    "editable": false
   },
   "source": [
    "## Turtle Questions\n",
    "\n",
    "First, we import *Turtle* and define the canvas formatting functions (it is up to you if you want to use these)"
   ]
  },
  {
   "cell_type": "code",
   "execution_count": null,
   "metadata": {
    "deletable": false,
    "editable": false
   },
   "outputs": [],
   "source": [
    "from mobilechelonian import Turtle\n",
    "\n",
    "from IPython import get_ipython\n",
    "\n",
    "def fix_canvas_position() :\n",
    "\n",
    "    get_ipython().run_cell_magic('js', '',\n",
    "        \"\"\"\n",
    "        $('canvas').css({\"position\": \"static\", \"border\":\"none\"});\n",
    "        $('canvas').last().css({\"position\": \"fixed\", \"top\": \"20%\", \"left\": \"60%\", \"border\": \"2px solid black\"});\n",
    "        \"\"\"\n",
    "    )\n",
    "                                    \n",
    "def reset_canvas_position() :\n",
    "    get_ipython().run_cell_magic('js', '',\n",
    "         \"\"\"\n",
    "         $('canvas').css({\"position\": \"static\", \"border\":\"none\"});\n",
    "         \"\"\"\n",
    "    )"
   ]
  },
  {
   "cell_type": "markdown",
   "metadata": {
    "deletable": false,
    "editable": false
   },
   "source": [
    "### Question 5\n",
    "\n",
    "Write an algorithm for drawing a capital 'E', using a *width* and *height* that can be set by the programmer. When you draw the 'E', make the middle horizontal line 90% of the *width*.\n",
    "\n",
    "Then write Python code that draws a capital 'E' using your algorithm above, using a height of 100 units and a width of 80 units."
   ]
  },
  {
   "cell_type": "markdown",
   "metadata": {},
   "source": [
    "(write algorithm here)"
   ]
  },
  {
   "cell_type": "code",
   "execution_count": null,
   "metadata": {},
   "outputs": [],
   "source": []
  },
  {
   "cell_type": "markdown",
   "metadata": {},
   "source": [
    "### Question 6\n",
    "\n",
    "An image of a zig zag is given below. Write an algorithm that instructs the turtle to draw a zig zag, and implement the algorithm in Python. The algorithm should contain a loop that repeats 5 times. Each line is 40 units long."
   ]
  },
  {
   "cell_type": "code",
   "execution_count": null,
   "metadata": {},
   "outputs": [],
   "source": [
    "from IPython import display\n",
    "display.Image('https://gdancik.github.io/CSC-180/data/exams/zigzag.png', width = 100)"
   ]
  },
  {
   "cell_type": "markdown",
   "metadata": {},
   "source": [
    "(write algorithm here)"
   ]
  },
  {
   "cell_type": "code",
   "execution_count": null,
   "metadata": {},
   "outputs": [],
   "source": []
  }
 ],
 "metadata": {
  "kernelspec": {
   "display_name": "Python 3",
   "language": "python",
   "name": "python3"
  },
  "language_info": {
   "codemirror_mode": {
    "name": "ipython",
    "version": 3
   },
   "file_extension": ".py",
   "mimetype": "text/x-python",
   "name": "python",
   "nbconvert_exporter": "python",
   "pygments_lexer": "ipython3",
   "version": "3.8.3"
  }
 },
 "nbformat": 4,
 "nbformat_minor": 2
}
