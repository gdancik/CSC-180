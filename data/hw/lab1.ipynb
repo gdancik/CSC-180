{
 "cells": [
  {
   "cell_type": "markdown",
   "metadata": {
    "deletable": false,
    "editable": false
   },
   "source": [
    "# CSC 180, Lab \\#1"
   ]
  },
  {
   "cell_type": "markdown",
   "metadata": {},
   "source": [
    "### Name: (Enter Name here)  [2 points]"
   ]
  },
  {
   "cell_type": "markdown",
   "metadata": {
    "deletable": false,
    "editable": false
   },
   "source": [
    "### Question 1 [5 points]\n",
    "\n",
    "Write a statement in Python to output the following:\n",
    "\n",
    "```\n",
    "This is the first assignment.\n",
    "```"
   ]
  },
  {
   "cell_type": "code",
   "execution_count": null,
   "metadata": {},
   "outputs": [],
   "source": []
  },
  {
   "cell_type": "markdown",
   "metadata": {
    "deletable": false,
    "editable": false
   },
   "source": [
    "### Question 2A [5 points]\n",
    "\n",
    "Write a statement in Python to output the value of *mycourse*, using the following format:\n",
    "\n",
    "```\n",
    "This class is: CSC 180\n",
    "```\n"
   ]
  },
  {
   "cell_type": "code",
   "execution_count": null,
   "metadata": {
    "deletable": false,
    "editable": false
   },
   "outputs": [],
   "source": [
    "mycourse = 'CSC 180'"
   ]
  },
  {
   "cell_type": "code",
   "execution_count": null,
   "metadata": {},
   "outputs": [],
   "source": []
  },
  {
   "cell_type": "markdown",
   "metadata": {
    "deletable": false,
    "editable": false
   },
   "source": [
    "### Question 2B [5 points]\n",
    "\n",
    "Write a statement in Python to again output the value of *mycourse*, but now using the following format:\n",
    "\n",
    "```\n",
    "This class is CSC-180.\n",
    "```\n",
    "\n",
    "Note that the sentence now ends in a period, and there is no space before the period. **Hint**: change the *sep* option for the *print* function.\n",
    "\n"
   ]
  },
  {
   "cell_type": "code",
   "execution_count": null,
   "metadata": {},
   "outputs": [],
   "source": []
  },
  {
   "cell_type": "markdown",
   "metadata": {
    "deletable": false,
    "editable": false
   },
   "source": [
    "### Question 3A [5 points]\n",
    "\n",
    "Find the number of inches in 5 feet, using the variable *feet* below. Your output should have the format:\n",
    "\n",
    "```\n",
    "There are 60 inches in 5 feet\n",
    "```\n",
    "\n",
    "Note that there are 12 inches in a foot, so that $inches = feet\\times12$."
   ]
  },
  {
   "cell_type": "code",
   "execution_count": null,
   "metadata": {
    "deletable": false,
    "editable": false
   },
   "outputs": [],
   "source": [
    "feet = 5"
   ]
  },
  {
   "cell_type": "code",
   "execution_count": null,
   "metadata": {},
   "outputs": [],
   "source": []
  },
  {
   "cell_type": "markdown",
   "metadata": {
    "deletable": false,
    "editable": false
   },
   "source": [
    "### Question 3B [4 points]\n",
    "\n",
    "To convert from inches to feet, we can use the formula $feet = inches\\ /\\ 12$.\n",
    "Find the number of feet in 66 inches, using the variable *inches* below.  Output or display the answer in any reasonable format. Note that the correct answer is 5.5."
   ]
  },
  {
   "cell_type": "code",
   "execution_count": null,
   "metadata": {
    "deletable": false,
    "editable": false
   },
   "outputs": [],
   "source": [
    "inches = 66"
   ]
  },
  {
   "cell_type": "code",
   "execution_count": null,
   "metadata": {},
   "outputs": [],
   "source": []
  },
  {
   "cell_type": "markdown",
   "metadata": {
    "deletable": false,
    "editable": false
   },
   "source": [
    "### Question 3C [6 points]\n",
    "\n",
    "\n",
    "Prompt the user to enter a number of inches, and then calculate and display the corresonding number of feet (Note: you do not need to round your output; however you may round output to two decimal places if you prefer)"
   ]
  },
  {
   "cell_type": "code",
   "execution_count": null,
   "metadata": {},
   "outputs": [],
   "source": []
  },
  {
   "cell_type": "markdown",
   "metadata": {
    "deletable": false,
    "editable": false
   },
   "source": [
    "### Question 3D [8 points]\n",
    "\n",
    "Write code to again prompt the user to enter an amount in inches, but this time display the whole number of feet and the remaining inches. For example, if the user enters 64 inches, you should output something like:\n",
    "\n",
    "```\n",
    "You entered 64 inches, which is equal to 5 feet and 4 inches.\n",
    "```"
   ]
  },
  {
   "cell_type": "code",
   "execution_count": null,
   "metadata": {},
   "outputs": [],
   "source": []
  },
  {
   "cell_type": "markdown",
   "metadata": {
    "deletable": false,
    "editable": false
   },
   "source": [
    "### Question 4A [5 points]\n",
    "\n",
    "Write an algorithm for getting a *length* and *width* of a rectangle from the user, and calculating the area of the rectangle. Note that $area = length\\times width$. So that each step of the algorithm is *computable*, each step should do one of the following: \n",
    "\n",
    "- get a value from a user and store it in a variable\n",
    "- set a variable to a particular value\n",
    "- calculate a value, and store it in a variable\n",
    "- output information (some combination of text, variable values, or values of an expression)\n"
   ]
  },
  {
   "cell_type": "markdown",
   "metadata": {},
   "source": [
    "(enter algorithm here)"
   ]
  },
  {
   "cell_type": "markdown",
   "metadata": {
    "deletable": false,
    "editable": false
   },
   "source": [
    "### Question 4B [5 points]\n",
    "\n",
    "Write Python code that implements your algorithm above."
   ]
  },
  {
   "cell_type": "code",
   "execution_count": null,
   "metadata": {},
   "outputs": [],
   "source": []
  },
  {
   "cell_type": "markdown",
   "metadata": {
    "deletable": false,
    "editable": false
   },
   "source": [
    "## Turtle Questions\n",
    "\n",
    "First, we import *Turtle* and define the canvas formatting functions (it is up to you if you want to use these)"
   ]
  },
  {
   "cell_type": "code",
   "execution_count": null,
   "metadata": {
    "deletable": false,
    "editable": false
   },
   "outputs": [],
   "source": [
    "from mobilechelonian import Turtle\n",
    "\n",
    "from IPython import get_ipython\n",
    "\n",
    "def fix_canvas_position() :\n",
    "\n",
    "    get_ipython().run_cell_magic('js', '',\n",
    "        \"\"\"\n",
    "        $('canvas').css({\"position\": \"static\", \"border\":\"none\"});\n",
    "        $('canvas').last().css({\"position\": \"fixed\", \"top\": \"20%\", \"left\": \"60%\", \"border\": \"2px solid black\"});\n",
    "        \"\"\"\n",
    "    )\n",
    "                                    \n",
    "def reset_canvas_position() :\n",
    "    get_ipython().run_cell_magic('js', '',\n",
    "         \"\"\"\n",
    "         $('canvas').css({\"position\": \"static\", \"border\":\"none\"});\n",
    "         \"\"\"\n",
    "    )"
   ]
  },
  {
   "cell_type": "markdown",
   "metadata": {},
   "source": [
    "### Question 5A [5 points]\n",
    "\n",
    "An algorithm for drawing a rectangle that is twice as long as it is high is given below. In other words, the *width* is half the value of *length*.\n",
    "\n",
    "1. Set the *length* to the desired value\n",
    "1. Move forward *length* units\n",
    "1. Turn left 90 degrees\n",
    "1. Move forward *length / 2* units\n",
    "1. Turn left 90 degrees\n",
    "1. Move forward *length* units\n",
    "1. Turn left 90 degrees\n",
    "1. Move forward *length / 2* units\n",
    "\n",
    "Add Python code below that follows the algorithm to draw a rectangle with a *length* of 100."
   ]
  },
  {
   "cell_type": "code",
   "execution_count": null,
   "metadata": {
    "deletable": false,
    "editable": false
   },
   "outputs": [],
   "source": [
    "t = Turtle()\n",
    "t.speed(10)"
   ]
  },
  {
   "cell_type": "markdown",
   "metadata": {},
   "source": [
    "Add code below to draw the rectangle."
   ]
  },
  {
   "cell_type": "code",
   "execution_count": null,
   "metadata": {},
   "outputs": [],
   "source": []
  },
  {
   "cell_type": "markdown",
   "metadata": {
    "deletable": false,
    "editable": false
   },
   "source": [
    "### Question 5B [5 points]\n",
    "\n",
    "An algorithm for drawing an 'X' that covers the canvas is given below.\n",
    "\n",
    "1. Pick up the pen\n",
    "1. Move to position (0,0)\n",
    "1. Put down the pen\n",
    "1. Move to position (400,400)\n",
    "1. Pick up the pen\n",
    "1. Move to position (400,0)\n",
    "1. Put down the pen\n",
    "1. Move to position (0,400)\n",
    "\n",
    "Add Python code below that follows the algorithm to draw the 'X'. Note that you can use *setposition(x,y)* to move the turtle to position (x,y)."
   ]
  },
  {
   "cell_type": "code",
   "execution_count": null,
   "metadata": {
    "deletable": false,
    "editable": false
   },
   "outputs": [],
   "source": [
    "t = Turtle()\n",
    "t.speed(10)"
   ]
  },
  {
   "cell_type": "code",
   "execution_count": null,
   "metadata": {},
   "outputs": [],
   "source": []
  },
  {
   "cell_type": "markdown",
   "metadata": {
    "deletable": false,
    "editable": false
   },
   "source": [
    "### Challenge (optional) \n",
    "\n",
    "Add code to your answer from question 5A to draw an 'X' inside the rectangle, for any value of *length*. The approach is similar to the algorithm above except you will need to figure out the (x,y) coordinates of the 4 corners of the rectangle. Note that the starting point for the turtle is (200,200).\n",
    "\n"
   ]
  },
  {
   "cell_type": "code",
   "execution_count": null,
   "metadata": {},
   "outputs": [],
   "source": []
  }
 ],
 "metadata": {
  "kernelspec": {
   "display_name": "Python 3",
   "language": "python",
   "name": "python3"
  },
  "language_info": {
   "codemirror_mode": {
    "name": "ipython",
    "version": 3
   },
   "file_extension": ".py",
   "mimetype": "text/x-python",
   "name": "python",
   "nbconvert_exporter": "python",
   "pygments_lexer": "ipython3",
   "version": "3.8.3"
  }
 },
 "nbformat": 4,
 "nbformat_minor": 2
}
