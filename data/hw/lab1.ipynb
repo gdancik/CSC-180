{
 "cells": [
  {
   "cell_type": "markdown",
   "metadata": {
    "deletable": false,
    "editable": false
   },
   "source": [
    "# CSC 180, Lab \\#1\n",
    "\n",
    "This notebook includes Python programming questions. For questions where your code follows an algorithm that is given or that you developed for Question 1, use comments to document each step of the algorithm. Each individual question (e.g., Question 2A) is worth 8 points."
   ]
  },
  {
   "cell_type": "markdown",
   "metadata": {},
   "source": [
    "### Name: (Replace this text with your name)  "
   ]
  },
  {
   "cell_type": "markdown",
   "metadata": {
    "deletable": false,
    "editable": false
   },
   "source": [
    "### Question 2A\n",
    "\n",
    "Write a statement in Python to output the following:\n",
    "\n",
    "```\n",
    "This is the first assignment.\n",
    "```"
   ]
  },
  {
   "cell_type": "code",
   "execution_count": null,
   "metadata": {},
   "outputs": [],
   "source": []
  },
  {
   "cell_type": "markdown",
   "metadata": {},
   "source": [
    "### Question 2B\n",
    "\n",
    "Write one or more statements in Python to output the following (there are 2 spaces at the beginning of the second line):\n",
    "\n",
    "```\n",
    "Line 1\n",
    "  Line 2\n",
    "```"
   ]
  },
  {
   "cell_type": "code",
   "execution_count": null,
   "metadata": {},
   "outputs": [],
   "source": []
  },
  {
   "cell_type": "markdown",
   "metadata": {
    "deletable": false,
    "editable": false
   },
   "source": [
    "### Question 3A \n",
    "\n",
    "Write a statement in Python to output the value of *mycourse*, using the following format:\n",
    "\n",
    "```\n",
    "This class is: CSC 180\n",
    "```\n"
   ]
  },
  {
   "cell_type": "code",
   "execution_count": null,
   "metadata": {
    "deletable": false,
    "editable": false
   },
   "outputs": [],
   "source": [
    "mycourse = 'CSC 180'"
   ]
  },
  {
   "cell_type": "code",
   "execution_count": null,
   "metadata": {},
   "outputs": [],
   "source": []
  },
  {
   "cell_type": "markdown",
   "metadata": {
    "deletable": false,
    "editable": false
   },
   "source": [
    "### Question 3B \n",
    "\n",
    "Write a statement in Python to again output the value of *mycourse*, but now using the following format:\n",
    "\n",
    "```\n",
    "This class is CSC 180.\n",
    "```\n",
    "\n",
    "Note that the sentence now ends in a period, and there is no space before the period. **Hint**: change the *sep* option for the *print* function.\n",
    "\n"
   ]
  },
  {
   "cell_type": "code",
   "execution_count": null,
   "metadata": {},
   "outputs": [],
   "source": []
  },
  {
   "cell_type": "markdown",
   "metadata": {
    "deletable": false,
    "editable": false
   },
   "source": [
    "### Question 4A \n",
    "\n",
    "Find the number of inches in 5 feet, using the variable *feet* below. Your output should have the format:\n",
    "\n",
    "```\n",
    "There are 60 inches in 5 feet\n",
    "```\n",
    "\n",
    "Note that there are 12 inches in a foot, so that $inches = feet\\times12$. You code should have the correct output for any positive value of *feet*."
   ]
  },
  {
   "cell_type": "code",
   "execution_count": null,
   "metadata": {
    "deletable": false,
    "editable": false
   },
   "outputs": [],
   "source": [
    "feet = 5"
   ]
  },
  {
   "cell_type": "code",
   "execution_count": null,
   "metadata": {},
   "outputs": [],
   "source": []
  },
  {
   "cell_type": "markdown",
   "metadata": {
    "deletable": false,
    "editable": false
   },
   "source": [
    "### Question 4B \n",
    "\n",
    "\n",
    "Prompt the user to enter a number of inches, and then calculate and display the corresonding number of feet (Note: you do not need to round your output; however you may round output to two decimal places if you prefer). The algorithm for this is below.\n",
    "\n",
    "1. *inches* $\\leftarrow$ get number of inches from the user\n",
    "2. *feet* $\\leftarrow$ inches / 12\n",
    "3. output *feet*"
   ]
  },
  {
   "cell_type": "code",
   "execution_count": null,
   "metadata": {},
   "outputs": [],
   "source": []
  },
  {
   "cell_type": "markdown",
   "metadata": {
    "deletable": false,
    "editable": false
   },
   "source": [
    "### Question 4C \n",
    "\n",
    "Write code to again prompt the user to enter an amount in inches, but this time display the whole number of feet and the remaining inches. For example, if the user enters 64 inches, you should output something like:\n",
    "\n",
    "```\n",
    "You entered 64 inches, which is equal to 5 feet and 4 inches.\n",
    "```\n",
    "\n",
    "The algorithm is below:\n",
    "\n",
    "1. *inches* $\\leftarrow$ get number of inches from the user\n",
    "2. *feet* $\\leftarrow$ number of whole feet in *inches* (you will need to make this computable)\n",
    "3. *remaining_inches* $\\leftarrow$ number of remaining *inches* (you will need to make this computable)\n",
    "3. output the original number of inches (*inches*), the whole number of feet (*feet*), and the remaining inches (*remaining_inches*)"
   ]
  },
  {
   "cell_type": "code",
   "execution_count": null,
   "metadata": {},
   "outputs": [],
   "source": []
  },
  {
   "cell_type": "markdown",
   "metadata": {
    "deletable": false,
    "editable": false
   },
   "source": [
    "### Question 5 \n",
    "\n",
    "Write Python code that finds the area of a rectangle given a *length* and *width* specified by the user. Your code should correspond to the algorithm you previously developed for this problem."
   ]
  },
  {
   "cell_type": "code",
   "execution_count": null,
   "metadata": {},
   "outputs": [],
   "source": []
  },
  {
   "cell_type": "markdown",
   "metadata": {
    "deletable": false,
    "editable": false
   },
   "source": [
    "## Turtle Questions\n",
    "\n",
    "First, we import *ColabTurtle* module. Note, if *ColabTurtle* is not installed, you will need to install it. The command we used in class is below, but if that does not work, let me know:\n",
    "\n",
    "```\n",
    "!pip3 install ColabTurtle\n",
    "```"
   ]
  },
  {
   "cell_type": "code",
   "execution_count": null,
   "metadata": {
    "deletable": false,
    "editable": false
   },
   "outputs": [],
   "source": [
    "from ColabTurtle.Turtle import *"
   ]
  },
  {
   "cell_type": "markdown",
   "metadata": {},
   "source": [
    "### Question 6A\n",
    "\n",
    "An algorithm for drawing a rectangle that is twice as long as it is high is given below. In other words, the *width* is half the value of *length*.\n",
    "\n",
    "1. Set the *length* to the desired value\n",
    "1. Move forward *length* units\n",
    "1. Turn right 90 degrees\n",
    "1. Move forward *length / 2* units\n",
    "1. Turn right 90 degrees\n",
    "1. Move forward *length* units\n",
    "1. Turn right 90 degrees\n",
    "1. Move forward *length / 2* units\n",
    "\n",
    "Add Python code below that follows the algorithm to draw a rectangle with a *length* of 100."
   ]
  },
  {
   "cell_type": "code",
   "execution_count": null,
   "metadata": {
    "deletable": false,
    "editable": false
   },
   "outputs": [],
   "source": [
    "initializeTurtle()"
   ]
  },
  {
   "cell_type": "markdown",
   "metadata": {
    "deletable": false,
    "editable": false
   },
   "source": [
    "### Question 6B\n",
    "\n",
    "Write Python code for drawing the letter 'E' that has a height of 100 units and a width of 60 units. The code should match the algorithm you developed previously."
   ]
  },
  {
   "cell_type": "code",
   "execution_count": null,
   "metadata": {},
   "outputs": [],
   "source": [
    "initializeTurtle()\n"
   ]
  },
  {
   "cell_type": "code",
   "execution_count": null,
   "metadata": {},
   "outputs": [],
   "source": []
  }
 ],
 "metadata": {
  "kernelspec": {
   "display_name": "Python 3",
   "language": "python",
   "name": "python3"
  },
  "language_info": {
   "codemirror_mode": {
    "name": "ipython",
    "version": 3
   },
   "file_extension": ".py",
   "mimetype": "text/x-python",
   "name": "python",
   "nbconvert_exporter": "python",
   "pygments_lexer": "ipython3",
   "version": "3.9.6"
  }
 },
 "nbformat": 4,
 "nbformat_minor": 2
}
