{
 "cells": [
  {
   "cell_type": "markdown",
   "metadata": {
    "deletable": false,
    "editable": false
   },
   "source": [
    "# CSC 180, Lab \\#2"
   ]
  },
  {
   "cell_type": "markdown",
   "metadata": {},
   "source": [
    "### Name: (Enter Name here)  [2 points]"
   ]
  },
  {
   "cell_type": "markdown",
   "metadata": {
    "deletable": false,
    "editable": false
   },
   "source": [
    "### Question 1 [5 points]\n",
    "\n",
    "Write Python code that prompts the user to enter two integers and then outputs the largest one. For example, if the user enters 17 and 9, the program outputs:\n",
    "\n",
    "```\n",
    "The largest number entered is: 17\n",
    "```\n",
    "\n",
    "The algorithm for finding the max between two numbers, which we covered previously, is as follows:\n",
    "1. Get two integers from the user (*num1* and *num2*)\n",
    "2. Set *maximum* $\\leftarrow$ *num1*\n",
    "3. If *num2* > *num1* then\n",
    "4. &nbsp;&nbsp;&nbsp;&nbsp; Set *maximum* $\\leftarrow$ *num2*\n",
    "5. Output the *maximum* value\n",
    "\n",
    "Write Python code that follows this algorithm."
   ]
  },
  {
   "cell_type": "code",
   "execution_count": null,
   "metadata": {},
   "outputs": [],
   "source": []
  },
  {
   "cell_type": "markdown",
   "metadata": {
    "deletable": false,
    "editable": false
   },
   "source": [
    "### Question 2 [8 points]\n",
    "\n",
    "At Eastern, you need to be registered for at least 12 credits to be considered a full time student. Write Python code to prompt the user to enter the number of credits they are taking this semester. Then output the number of credits, and whether or not the student has \"Full time\" status. If the student is not full time, output the number of credits needed to be full time. Use the format below.\n",
    "\n",
    "For example, if the user enters 15 credits, then output the following:\n",
    "\n",
    "```\n",
    "Number of credits entered: 15\n",
    "Your status is: full time\n",
    "```\n",
    "\n",
    "If the user enters 10 credits, then output the following:\n",
    "\n",
    "```\n",
    "Number of credits entered: 10\n",
    "Your status is: part time\n",
    "You need 2 more credits for full time status\n",
    "```\n",
    "\n",
    "An algorithm for this is below:\n",
    "1. *credits* $\\leftarrow$ get number of credits from user\n",
    "2. Output number of credits entered: *credits*\n",
    "3. if *credits* > 12 then\n",
    "4. &nbsp;&nbsp;&nbsp;&nbsp;Output Your status is: full time\n",
    "5. else \n",
    "6. &nbsp;&nbsp;&nbsp;&nbsp;*credits_needed* $\\leftarrow$ 12 - *credits*\n",
    "7. &nbsp;&nbsp;&nbsp;&nbsp;Output Your status is: part time\n",
    "8. &nbsp;&nbsp;&nbsp;&nbsp;Output You need *credits_needed* more credits for full time status"
   ]
  },
  {
   "cell_type": "code",
   "execution_count": null,
   "metadata": {},
   "outputs": [],
   "source": []
  },
  {
   "cell_type": "markdown",
   "metadata": {
    "deletable": false,
    "editable": false
   },
   "source": [
    "### Question 3 [8 points]\n",
    "\n",
    "A college class uses the following grade scale:\n",
    "\n",
    "```\n",
    "90 and above: A\n",
    "80 - 89: B\n",
    "70 - 79: C\n",
    "60 - 69: D\n",
    "below 60: F\n",
    "```\n",
    "\n",
    "Write Python code to prompt the user to enter their numeric grade, and then output their letter grade. Your output should have the following form:\n",
    "\n",
    "```\n",
    "You entered a 95, which is an A\n",
    "```\n",
    "\n",
    "Note that it is not necessary to specify the range for each grade, since the conditions are evaluated sequentially. The following pseudocode will correctly output the letter grade.\n",
    "\n",
    "```\n",
    "- if grade >= 90 :\n",
    "    - output A\n",
    "- else if grade >= 80 :\n",
    "    - output B\n",
    "- else if grade >= 70 :\n",
    "    - output C    \n",
    "- else if grade >= 60 :\n",
    "    - output D\n",
    "- else :\n",
    "    - output F\n",
    "```\n",
    "\n",
    "For example, if the user enters an 85, the first condition (grade >= 90) will be false, and the second condition (grade >= 80) will be evaluated. This condition will be True, and the grade must be between 80 - 89."
   ]
  },
  {
   "cell_type": "code",
   "execution_count": null,
   "metadata": {},
   "outputs": [],
   "source": []
  },
  {
   "cell_type": "markdown",
   "metadata": {
    "deletable": false,
    "editable": false
   },
   "source": [
    "## Turtle Questions\n",
    "\n",
    "First, we install the *ColabTurtle* module, and then load it."
   ]
  },
  {
   "cell_type": "code",
   "execution_count": null,
   "metadata": {
    "deletable": false,
    "editable": false
   },
   "outputs": [],
   "source": [
    "!pip install ColabTurtle"
   ]
  },
  {
   "cell_type": "code",
   "execution_count": null,
   "metadata": {},
   "outputs": [],
   "source": [
    "from ColabTurtle.Turtle import *"
   ]
  },
  {
   "cell_type": "markdown",
   "metadata": {
    "deletable": false,
    "editable": false
   },
   "source": [
    "### Question 4 [8 points]\n",
    "\n",
    "Prompt the user to enter a shape (line, square, or triangle). \n",
    "Then prompt the user to enter a background color, and a line color. \n",
    "\n",
    "Then draw the appropriate shape, using the specified colors:\n",
    "\n",
    "- if the user specifies \"line\", draw a straight line with a length of 100 units\n",
    "- otherwise if the user specifies \"square\", draw a square that is 100 x 100 units.\n",
    "- otherwise if the user specifies \"triangle\", draw an equilateral triangle where each side is 100 units\n",
    "- otherwise, output that an invalid shape was entered\n",
    "\n",
    "If a background color is entered, then change the color using `bgcolor(userInput)`. If a line color is entered, change the line color using `color(userInput)`. Note that if no color is specified (the user just hits enter), then *userInput* will be ''. An invalid color (such as a misspelled color) will result in an error; you should not worry about this.\n",
    "\n",
    "Note that the algorithm for drawing an equilateral triangle (all sides are the same length) is as follows:\n",
    "\n",
    "1. Turn right 45 degrees\n",
    "2. Go forward 100 units\n",
    "3. Turn right 120 degrees\n",
    "4. Go forward 100 units\n",
    "5. Turn right 120 degrees\n",
    "6. Go forward 100 units"
   ]
  },
  {
   "cell_type": "code",
   "execution_count": null,
   "metadata": {},
   "outputs": [],
   "source": [
    "initializeTurtle()\n",
    "bgcolor('purple')\n",
    "forward(100)"
   ]
  },
  {
   "cell_type": "markdown",
   "metadata": {
    "deletable": false,
    "editable": false
   },
   "source": [
    "### Question 5 (4 points)\n",
    "\n",
    "The code below is taken from the *Branching* notebook example, and draws lines with colors alternating between black and red. Modify the code (the *if* statement) so that the colors alternate between black, red, and green, in that order."
   ]
  },
  {
   "cell_type": "code",
   "execution_count": null,
   "metadata": {},
   "outputs": [],
   "source": [
    "initializeTurtle()\n",
    "speed(10)\n",
    "\n",
    "# the turtle starts at (400,400), we therefore start 300 units to the left (at 100) and end \n",
    "# at 300 units to the right (700) of the home position\n",
    "\n",
    "# for x values from 100, 120, 140, .....700\n",
    "for x in range(100,700,20) :\n",
    "\n",
    "    # move the turtle to (x,100)\n",
    "    setposition(x,100)\n",
    "\n",
    "    # return home, to (400,400)\n",
    "    home()\n",
    "\n",
    "    # if the current color is white then\n",
    "    if color() == 'white' :\n",
    "        # change the color to red\n",
    "        color('red')\n",
    "    # otherwise\n",
    "    else :\n",
    "        # change the color to white\n",
    "        color('white')\n"
   ]
  },
  {
   "cell_type": "code",
   "execution_count": null,
   "metadata": {},
   "outputs": [],
   "source": []
  }
 ],
 "metadata": {
  "kernelspec": {
   "display_name": "Python 3",
   "language": "python",
   "name": "python3"
  },
  "language_info": {
   "codemirror_mode": {
    "name": "ipython",
    "version": 3
   },
   "file_extension": ".py",
   "mimetype": "text/x-python",
   "name": "python",
   "nbconvert_exporter": "python",
   "pygments_lexer": "ipython3",
   "version": "3.9.6"
  }
 },
 "nbformat": 4,
 "nbformat_minor": 2
}
