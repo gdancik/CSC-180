{
 "cells": [
  {
   "cell_type": "markdown",
   "metadata": {
    "deletable": false,
    "editable": false
   },
   "source": [
    "# CSC 180, Lab \\#2"
   ]
  },
  {
   "cell_type": "markdown",
   "metadata": {},
   "source": [
    "### Name: (Enter Name here)  [2 points]"
   ]
  },
  {
   "cell_type": "markdown",
   "metadata": {
    "deletable": false,
    "editable": false
   },
   "source": [
    "### Question 1 [5 points]\n",
    "\n",
    "Write Python code that prompts the user to enter two integers and then outputs the largest one. For example, if the user enters 17 and 9, the program outputs:\n",
    "\n",
    "```\n",
    "The largest number entered is: 17\n",
    "```"
   ]
  },
  {
   "cell_type": "code",
   "execution_count": null,
   "metadata": {},
   "outputs": [],
   "source": []
  },
  {
   "cell_type": "markdown",
   "metadata": {
    "deletable": false,
    "editable": false
   },
   "source": [
    "### Question 2 [8 points]\n",
    "\n",
    "At Eastern, you need to be registered for 12 credits to be considered a full time student. Write Python code to prompt the user to enter the number of credits they are taking this semester. Then output the number of credits, and whether or not the student has \"Full time\" status. If the student is not full time, output the number of credits needed to be full time. Use the format below.\n",
    "\n",
    "For example, if the user enters 15 credits, then output the following:\n",
    "\n",
    "```\n",
    "Number of credits entered: 15\n",
    "Your status is: full time\n",
    "```\n",
    "\n",
    "If the user enters 10 credits, then output the following:\n",
    "\n",
    "```\n",
    "Number of credits entered: 10\n",
    "Your status is: part time\n",
    "You need 2 more credits for full time status\n",
    "```"
   ]
  },
  {
   "cell_type": "code",
   "execution_count": null,
   "metadata": {},
   "outputs": [],
   "source": []
  },
  {
   "cell_type": "markdown",
   "metadata": {
    "deletable": false,
    "editable": false
   },
   "source": [
    "### Question 3 [8 points]\n",
    "\n",
    "A college class uses the following grade scale:\n",
    "\n",
    "```\n",
    "90 and above: A\n",
    "80 - 89: B\n",
    "70 - 79: C\n",
    "60 - 69: D\n",
    "below 60: F\n",
    "```\n",
    "\n",
    "Write Python code to prompt the user to enter their numeric grade, and then output their letter grade. Your output should have the following form:\n",
    "\n",
    "```\n",
    "You entered a 95, which is an A\n",
    "```\n",
    "\n",
    "Note that it is not necessary to specify the range for each grade, since conditions are evaluated sequentially. The following pseudocode will correctly output the letter grade.\n",
    "\n",
    "```\n",
    "- if grade >= 90 :\n",
    "    - output A\n",
    "- else if grade >= 80 :\n",
    "    - output B\n",
    "- else if grade >= 70 :\n",
    "    - output C    \n",
    "- else if grade >= 60 :\n",
    "    - output D\n",
    "- else :\n",
    "    - output F\n",
    "```\n",
    "\n",
    "For example, if the user enters an 85, the first condition (grade >= 90) will be false, and the second condition (grade >= 80) will be evaluated. This condition will be True, and the grade must be between 80 - 89."
   ]
  },
  {
   "cell_type": "code",
   "execution_count": null,
   "metadata": {},
   "outputs": [],
   "source": []
  },
  {
   "cell_type": "markdown",
   "metadata": {
    "deletable": false,
    "editable": false
   },
   "source": [
    "## Turtle Questions\n",
    "\n",
    "First, we import *Turtle* and define the canvas formatting functions (it is up to you if you want to use these)"
   ]
  },
  {
   "cell_type": "code",
   "execution_count": null,
   "metadata": {
    "deletable": false,
    "editable": false
   },
   "outputs": [],
   "source": [
    "from mobilechelonian import Turtle\n",
    "\n",
    "from IPython import get_ipython\n",
    "\n",
    "def fix_canvas_position() :\n",
    "\n",
    "    get_ipython().run_cell_magic('js', '',\n",
    "        \"\"\"\n",
    "        $('canvas').css({\"position\": \"static\", \"border\":\"none\"});\n",
    "        $('canvas').last().css({\"position\": \"fixed\", \"top\": \"20%\", \"left\": \"60%\", \"border\": \"2px solid black\"});\n",
    "        \"\"\"\n",
    "    )\n",
    "                                    \n",
    "def reset_canvas_position() :\n",
    "    get_ipython().run_cell_magic('js', '',\n",
    "         \"\"\"\n",
    "         $('canvas').css({\"position\": \"static\", \"border\":\"none\"});\n",
    "         \"\"\"\n",
    "    )"
   ]
  },
  {
   "cell_type": "markdown",
   "metadata": {
    "deletable": false,
    "editable": false
   },
   "source": [
    "### Question 4 [8 points]\n",
    "\n",
    "Prompt the user to enter a shape (line, square, or circle). \n",
    "Then prompt the user to enter a color.\n",
    "\n",
    "Then draw the appropriate shape, using the specified color:\n",
    "\n",
    "- if the user specifies \"line\", draw a straight line with \n",
    "a width of 100 units\n",
    "- otherwise if the user specifies \"square\", draw a square that is 100 x 100 units.\n",
    "- otherwise if the user specifies \"circle\", draw a circle with a radius of 30 units.\n",
    "- otherwise, output that an invalid shape was entered\n",
    "\n",
    "Note that for a turtle named *t*, the statement below will draw a circle with radius of 30.\n",
    "\n",
    "```python\n",
    "t.circle(30)\n",
    "```\n",
    "\n",
    "Note also that if the turtle's color is set to something invalid, then black will be used."
   ]
  },
  {
   "cell_type": "code",
   "execution_count": null,
   "metadata": {},
   "outputs": [],
   "source": [
    "t = Turtle()\n",
    "t.speed(10)"
   ]
  },
  {
   "cell_type": "markdown",
   "metadata": {
    "deletable": false,
    "editable": false
   },
   "source": [
    "### Question 5 (4 points)\n",
    "\n",
    "The code below is taken from the *Branching* notebook example, and draws lines with colors alternating between black and red. Modify the code (the *if* statement) so that the colors alternate between black, red, and green, in that order."
   ]
  },
  {
   "cell_type": "code",
   "execution_count": null,
   "metadata": {},
   "outputs": [],
   "source": [
    "t = Turtle()\n",
    "t.speed(10)\n",
    "    \n",
    "# use x values of 0, 40, 80, ... 400\\n\",\n",
    "for x in range(0,401,40) :\n",
    "    # draw a line to the top, then go back home\n",
    "    t.setposition(x,0)\n",
    "    t.home()   \n",
    "    # switch colors\n",
    "    if t.color == 'black':\n",
    "        t.color = 'red'\n",
    "    else :\n",
    "        t.color = 'black'"
   ]
  },
  {
   "cell_type": "markdown",
   "metadata": {
    "deletable": false,
    "editable": false
   },
   "source": [
    "### Challenge (optional) \n",
    "\n",
    "Modify your code from question 3 to output a \"+\" or \"-\" to allow for the following grades:\n",
    "```\n",
    "87-89, B+\n",
    "77-79, C+\n",
    "67-69, D+\n",
    "\n",
    "90-92, A-\n",
    "80-82, B-\n",
    "79-72, C-\n",
    "```\n",
    "\n",
    "While it is possible to use separate conditions (in the form of *elif* statements) for each of these cases, a more clever way (with less typing) is to take a mathematical approach:\n",
    "\n",
    "- A \"+\" sign should be added if the letter grade is not equal to 'A' or 'F' and the tens digit is 7-9.\n",
    "- A \"-\" sign should be added if the letter grade is not an 'F' or 'D' and the tens digit is 0-2\n",
    "\n",
    "A basic algorithm for this is as follows:\n",
    "\n",
    "1. Determine the letter grade, using the logic from question 3, and store this grade in *letter*\n",
    "2. Determine the sign of the grade (either '+', '-', or '' for none), and store this in *sign*\n",
    "3. Output the letter grade with the sign\n",
    "\n",
    "**Hints**: \n",
    "- In python you can use the words **and** or **or** to indicate joint conditions. For example, the code below can be used to do something if both x and y are greater than 10.\n",
    "\n",
    "```python\n",
    "if x > 10 and y > 10 :\n",
    "    # do something\n",
    "```\n",
    "\n",
    "- The tens digit of any number can be found by calculating the remainder when dividing by 10."
   ]
  },
  {
   "cell_type": "code",
   "execution_count": null,
   "metadata": {},
   "outputs": [],
   "source": []
  }
 ],
 "metadata": {
  "kernelspec": {
   "display_name": "Python 3",
   "language": "python",
   "name": "python3"
  },
  "language_info": {
   "codemirror_mode": {
    "name": "ipython",
    "version": 3
   },
   "file_extension": ".py",
   "mimetype": "text/x-python",
   "name": "python",
   "nbconvert_exporter": "python",
   "pygments_lexer": "ipython3",
   "version": "3.8.3"
  }
 },
 "nbformat": 4,
 "nbformat_minor": 2
}
