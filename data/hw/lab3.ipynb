{
 "cells": [
  {
   "cell_type": "markdown",
   "metadata": {
    "deletable": false,
    "editable": false
   },
   "source": [
    "# CSC 180, Lab \\#3"
   ]
  },
  {
   "cell_type": "markdown",
   "metadata": {},
   "source": [
    "### Name: (Enter Name here)  [2 points]"
   ]
  },
  {
   "cell_type": "markdown",
   "metadata": {
    "deletable": false,
    "editable": false
   },
   "source": [
    "### Question 1 [5 points]\n",
    "\n",
    "Write Python code that continually prompts the user to enter an integer between 1 and 10, until a valid number is entered. The program then outputs the number entered, using the format\n",
    "\n",
    "```\n",
    "Thank you. You entered the following number: 7\n",
    "```\n",
    "\n",
    "**Note**: the condition here is that the number is invalid (i.e., NOT between 1 and 10). In other words, the number is invalid if it is less than 1 or greater than 10. In Python, you can specify this condition using the following syntax:\n",
    "\n",
    "```python\n",
    "num < 1 or num > 10\n",
    "```\n",
    "\n",
    "(If you are taking CSC 210, note that this syntax will not work in Java)"
   ]
  },
  {
   "cell_type": "code",
   "execution_count": null,
   "metadata": {},
   "outputs": [],
   "source": []
  },
  {
   "cell_type": "markdown",
   "metadata": {
    "deletable": false,
    "editable": false
   },
   "source": [
    "### Question 2 [5 points]\n",
    "\n",
    "For this problem you will write code for a 1 question quiz that works as follows. The user (player) is asked a trivia question of your choice. The player gets three tries to answer correctly; if the player does not answer correctly after 3 tries, then the program tells the player the answer. An algorithm for this code is given below:\n",
    "\n",
    "1. Set *answer* $\\leftarrow$ None  (Note: *None* is a reserved word in Python that essentially means undefined)\n",
    "\n",
    "\n",
    "2. Set *count* $\\leftarrow$ 0\n",
    "\n",
    "\n",
    "3. while *answer* is not correct and *count* < 3 :\n",
    "    - set *count* $\\leftarrow$ *count* + 1\n",
    "    \n",
    "    - prompt the user with your question, and store the result in *answer*\n",
    "    \n",
    "    - if the *answer* is correct :    \n",
    "        - output: 'Congratulations, your answer is correct!'    \n",
    "    - otherwise, if *count* is equal to 3 :\n",
    "    \n",
    "        - output: 'Your 3 guesses are up. The correct answer is (correct answer)'\n",
    "    \n",
    "    \n",
    "4. output: 'Thanks for playing!'\n",
    "\n",
    "Note: In Python you can use the word *and* to create a joint condition which is *true* only if both indivdual conditions are true. For example, the following statement is *true* only if both *x* and *y* are less than 10:\n",
    "\n",
    "```python\n",
    "x < 10 and y < 10\n",
    "```"
   ]
  },
  {
   "cell_type": "code",
   "execution_count": null,
   "metadata": {},
   "outputs": [],
   "source": []
  },
  {
   "cell_type": "markdown",
   "metadata": {
    "deletable": false,
    "editable": false
   },
   "source": [
    "### Question 3 [5 points]\n",
    "\n",
    "Write Python code to implement the algorithm below that finds the sum of 3 numbers entered by the user.\n",
    "\n",
    "1. Set *sum* $\\leftarrow$ 0\n",
    "2. Repeat 3 times :\n",
    "    - prompt the user to enter a number, and store in *num*\n",
    "    - set *sum* $\\leftarrow$ *sum* + *num*\n",
    "3. Output the *sum*\n"
   ]
  },
  {
   "cell_type": "code",
   "execution_count": null,
   "metadata": {},
   "outputs": [],
   "source": []
  },
  {
   "cell_type": "markdown",
   "metadata": {
    "deletable": false,
    "editable": false
   },
   "source": [
    "### Question 4A [4 points]\n",
    "\n",
    "Write an algorithm that adds an arbitrary number of non-negative integers entered by the user. The algorithm uses a loop that repeats until a negative integer is entered. Then the code outputs the sum of only the non-negative integers.\n",
    "\n",
    "For example, if the user enters the following integers\n",
    "\n",
    "```\n",
    "1\n",
    "2\n",
    "3\n",
    "-9\n",
    "```\n",
    "\n",
    "then the program outputs that the sum is 6."
   ]
  },
  {
   "cell_type": "markdown",
   "metadata": {},
   "source": [
    "#### (Write your algorithm here)"
   ]
  },
  {
   "cell_type": "markdown",
   "metadata": {
    "deletable": false,
    "editable": false
   },
   "source": [
    "### Question 4B [4 points]\n",
    "\n",
    "Write Python code to implement your algorithm above. Your code must correspond to the algorithm above for full credit."
   ]
  },
  {
   "cell_type": "code",
   "execution_count": null,
   "metadata": {},
   "outputs": [],
   "source": []
  },
  {
   "cell_type": "markdown",
   "metadata": {
    "deletable": false,
    "editable": false
   },
   "source": [
    "### Question 5 [5 points]\n",
    "\n",
    "An algorithm for finding the largest number in a list of numbers is as follows:\n",
    "\n",
    "1. Set *max_num* $\\leftarrow$ the first number in the list\n",
    "\n",
    "\n",
    "2. For each number (*num*) in the list:\n",
    "    - if *num* > *max_num* :\n",
    "        - set *max_num* $\\leftarrow$ *num*\n",
    "\n",
    "\n",
    "3. Output *max_num*\n",
    "\n",
    "Write Python code that uses this algorithm to find the maximum number of the *mynumbers* list below. Your code must follow the algorithm to receive full credit."
   ]
  },
  {
   "cell_type": "code",
   "execution_count": null,
   "metadata": {
    "deletable": false,
    "editable": false
   },
   "outputs": [],
   "source": [
    "mynumbers = [7, 19, 23, 0, -4, 12]"
   ]
  },
  {
   "cell_type": "code",
   "execution_count": null,
   "metadata": {},
   "outputs": [],
   "source": []
  },
  {
   "cell_type": "markdown",
   "metadata": {
    "deletable": false,
    "editable": false
   },
   "source": [
    "## Turtle Questions"
   ]
  },
  {
   "cell_type": "code",
   "execution_count": null,
   "metadata": {
    "deletable": false,
    "editable": false
   },
   "outputs": [],
   "source": [
    "from mobilechelonian import Turtle\n",
    "from IPython import get_ipython\n",
    "\n",
    "def fix_canvas_position() :\n",
    "\n",
    "    get_ipython().run_cell_magic('js', '',\n",
    "        \"\"\"\n",
    "        $('canvas').css({\"position\": \"static\", \"border\":\"none\"});\n",
    "        $('canvas').last().css({\"position\": \"fixed\", \"top\": \"20%\", \"left\": \"60%\", \"border\": \"2px solid black\"});\n",
    "        \"\"\"\n",
    "    )\n",
    "                                    \n",
    "def reset_canvas_position() :\n",
    "    get_ipython().run_cell_magic('js', '',\n",
    "         \"\"\"\n",
    "         $('canvas').css({\"position\": \"static\", \"border\":\"none\"});\n",
    "         \"\"\"\n",
    "    )"
   ]
  },
  {
   "cell_type": "markdown",
   "metadata": {
    "deletable": false,
    "editable": false
   },
   "source": [
    "### Question 6 (5 points)\n",
    "\n",
    "One algorithm for constructing a square is as follows:\n",
    "\n",
    "- for each side of the square \n",
    "    - move forward 100 units\n",
    "    - turn left 90 degrees\n",
    "    \n",
    " Write Python code that implements the above algorithm for drawing a square with width 100 units."
   ]
  },
  {
   "cell_type": "code",
   "execution_count": null,
   "metadata": {},
   "outputs": [],
   "source": []
  },
  {
   "cell_type": "markdown",
   "metadata": {
    "deletable": false,
    "editable": false
   },
   "source": [
    "### Question 7 (5 points)\n",
    "\n",
    "An algorithm for drawing a spiral is given below:\n",
    "\n",
    "1. set *width* $\\leftarrow$ 20\n",
    "2. Repeat 10 times:\n",
    "    - move forward *width* units\n",
    "    - turn left 90 degrees\n",
    "    - move forward *width* units\n",
    "    - turn left 90 degrees\n",
    "    - set *width* $\\leftarrow$ *width* + 10"
   ]
  },
  {
   "cell_type": "code",
   "execution_count": null,
   "metadata": {},
   "outputs": [],
   "source": []
  },
  {
   "cell_type": "markdown",
   "metadata": {
    "deletable": false,
    "editable": false
   },
   "source": [
    "### Challenge (optional)\n",
    "\n",
    "For this challenge project you will control the turtle through text commands. \n",
    "\n",
    "Each command has the form\n",
    "\n",
    "```\n",
    "'turtle_command number'\n",
    "```\n",
    "\n",
    "For example, the command 'forward 80' would tell the turtle to go forward 80 units.\n",
    "\n",
    "Write Python code that iterates (loops) through a list of commands and moves the turtle accordingly. Your Python code should handle the turtle commands 'forward', 'backward', 'left', and 'right'. A list of commands is provided for you, though you may create a new list of commands if you wish.\n",
    "\n",
    "**Note**: For each command, you will need to *split* the string to extract the *turtle_command* and the *number*, which will need to be converted to an integer."
   ]
  },
  {
   "cell_type": "code",
   "execution_count": null,
   "metadata": {
    "deletable": false,
    "editable": false
   },
   "outputs": [],
   "source": [
    "commands = ['forward 80', \n",
    "            'left 120', \n",
    "            'forward 80', \n",
    "            'left 120', \n",
    "            'forward 80',\n",
    "            'right 60',\n",
    "            'forward 80',\n",
    "            'left 120',\n",
    "            'forward 80',\n",
    "            'left 120',\n",
    "            'forward 80',\n",
    "            'left 60',\n",
    "            'forward 80',\n",
    "            'backward 200']"
   ]
  },
  {
   "cell_type": "code",
   "execution_count": null,
   "metadata": {},
   "outputs": [],
   "source": []
  }
 ],
 "metadata": {
  "kernelspec": {
   "display_name": "Python 3",
   "language": "python",
   "name": "python3"
  },
  "language_info": {
   "codemirror_mode": {
    "name": "ipython",
    "version": 3
   },
   "file_extension": ".py",
   "mimetype": "text/x-python",
   "name": "python",
   "nbconvert_exporter": "python",
   "pygments_lexer": "ipython3",
   "version": "3.8.3"
  }
 },
 "nbformat": 4,
 "nbformat_minor": 2
}
