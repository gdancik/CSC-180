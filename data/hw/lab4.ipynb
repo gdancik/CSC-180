{
 "cells": [
  {
   "cell_type": "markdown",
   "metadata": {},
   "source": [
    "# CSC 180, Lab \\#4"
   ]
  },
  {
   "cell_type": "markdown",
   "metadata": {},
   "source": [
    "### Name: (Enter Name here) [1 point]"
   ]
  },
  {
   "cell_type": "markdown",
   "metadata": {
    "deletable": false,
    "editable": false
   },
   "source": [
    "### Question 1 [5 points]\n",
    "\n",
    "Use Python to answer these questions:\n",
    "\n",
    "(a) What is the binary value of the integer 1876?"
   ]
  },
  {
   "cell_type": "code",
   "execution_count": null,
   "metadata": {},
   "outputs": [],
   "source": []
  },
  {
   "cell_type": "markdown",
   "metadata": {
    "deletable": false,
    "editable": false
   },
   "source": [
    "(b) What is the hexadecimal value of the integer 1876?"
   ]
  },
  {
   "cell_type": "code",
   "execution_count": null,
   "metadata": {},
   "outputs": [],
   "source": []
  },
  {
   "cell_type": "markdown",
   "metadata": {
    "deletable": false,
    "editable": false
   },
   "source": [
    "### Question 2 [5 points]\n",
    "\n",
    "Write Python code that prompts the user to enter a positive integer, and then converts the decimal integer to binary, following the algorithm discussed in class (you can assume that the integer entered is valid).\n",
    "\n",
    "For example, if the user enters 13, then the output would be:\n",
    "\n",
    "```\n",
    "1\n",
    "0\n",
    "1\n",
    "1\n",
    "```\n",
    "\n",
    "**Challenge:** Output the binary value in its correct format. For example, if the user enters 13, the program should output: 1101. One way to do this is to start with an empty string and then add each binary digit to beginning of the string as the next digit is found.  Note that you can combine strings using *a + b*, but this only works if both *a* and *b* are strings. If not, you can use *str(x)* to convert *x* to a string."
   ]
  },
  {
   "cell_type": "code",
   "execution_count": null,
   "metadata": {},
   "outputs": [],
   "source": []
  },
  {
   "cell_type": "markdown",
   "metadata": {
    "deletable": false,
    "editable": false
   },
   "source": [
    "### Question 3 [5 points]\n",
    "\n",
    "Write Python code that prompts the user for 3 integer values, corresponding to a Red, Green and Blue intensity. Output the corresponding color as an rgb triplet and as its hexadecimal value. For example, if the user enters the numbers 100, 50, and 80, then the output should be:\n",
    "\n",
    "```\n",
    "rgb: 100,50,80\n",
    "hex: 0x64,0x50,0x14\n",
    "```\n",
    "\n",
    "To test your results, you can use this page: https://htmlcolorcodes.com/rgb-to-hex/\n",
    "\n",
    "**Challenge:** \n",
    "\n",
    "You can also convert to hex using the command\n",
    "\n",
    "```\n",
    "format(num, 'x')\n",
    "```\n",
    "\n",
    "The difference between *hex* and *format* is that format will return a string that does not include '0x' in it. Use the format function to output the hex value as follows:\n",
    "\n",
    "hex: 645014"
   ]
  },
  {
   "cell_type": "code",
   "execution_count": null,
   "metadata": {},
   "outputs": [],
   "source": []
  },
  {
   "cell_type": "markdown",
   "metadata": {},
   "source": [
    "### Question 4 [14 points]\n",
    "\n",
    "(a) What is the unicode code point of the letter 'W'?"
   ]
  },
  {
   "cell_type": "code",
   "execution_count": null,
   "metadata": {},
   "outputs": [],
   "source": []
  },
  {
   "cell_type": "markdown",
   "metadata": {
    "deletable": false,
    "editable": false
   },
   "source": [
    "(b) What is the character that has the unicode code point of 118?"
   ]
  },
  {
   "cell_type": "code",
   "execution_count": null,
   "metadata": {},
   "outputs": [],
   "source": []
  },
  {
   "cell_type": "markdown",
   "metadata": {
    "deletable": false,
    "editable": false
   },
   "source": [
    "(c) The message below is a list of unicode code points corresponding to a secret message. Use a loop to output the corresponding unicode character for each code point. In your print statement, set end = '' so that all output stays on the same line. "
   ]
  },
  {
   "cell_type": "code",
   "execution_count": null,
   "metadata": {
    "deletable": false,
    "editable": false
   },
   "outputs": [],
   "source": [
    "message = [89, 111, 117, 32, 100, 105,100, 32, 105, 116, 33]"
   ]
  },
  {
   "cell_type": "code",
   "execution_count": null,
   "metadata": {},
   "outputs": [],
   "source": []
  },
  {
   "cell_type": "markdown",
   "metadata": {
    "deletable": false,
    "editable": false
   },
   "source": [
    "(d) The message below is a list of unicode code points, in binary, corresponding to a secret message. Use a loop  to output the corresponding unicode character for each code point. In your print statement, set end = '' so that all output stays on the same line. Note that this is exactly how a message encoded using ASCII is represented on your computer (however, it would be one string of bits: '1000001111011111001011110011110111111011011100101100001'"
   ]
  },
  {
   "cell_type": "code",
   "execution_count": null,
   "metadata": {
    "deletable": false,
    "editable": false
   },
   "outputs": [],
   "source": [
    "message = ['1000001','1110111','1100101','1110011','1101111','1101101','1100101','100001']"
   ]
  },
  {
   "cell_type": "code",
   "execution_count": null,
   "metadata": {},
   "outputs": [],
   "source": []
  },
  {
   "cell_type": "markdown",
   "metadata": {
    "deletable": false,
    "editable": false
   },
   "source": [
    "(e) What is the UTF-8 encoding for the string \"How are you?\", in hex?"
   ]
  },
  {
   "cell_type": "code",
   "execution_count": null,
   "metadata": {},
   "outputs": [],
   "source": []
  },
  {
   "cell_type": "markdown",
   "metadata": {
    "deletable": false,
    "editable": false
   },
   "source": [
    "(f) Using Python to get the corresponding values, output the unicode code point, the UTF-8 encoding, the encoded hex value, and the decimal value of the *dolphin* below. Your output should label your results (e.g., 'The unicode code point is...'). You can verify your answers by looking at the following page: \n",
    "https://unicode-table.com/en/1F42C/"
   ]
  },
  {
   "cell_type": "code",
   "execution_count": null,
   "metadata": {
    "deletable": false,
    "editable": false
   },
   "outputs": [],
   "source": [
    "dolphin = '🐬'"
   ]
  },
  {
   "cell_type": "code",
   "execution_count": null,
   "metadata": {},
   "outputs": [],
   "source": []
  },
  {
   "cell_type": "markdown",
   "metadata": {
    "deletable": false,
    "editable": false
   },
   "source": [
    "## Additional Questions (5 points each)\n",
    "\n",
    "Answer these questions on a separate sheet of paper. You can use code and tools to verify your answers, but you must show your work where specified to receive credit.\n",
    "\n",
    "\n",
    "1. What is the decimal value of the binary number 101001 (you must show the addition of multiples of 2 to receive credit).\n",
    "\n",
    "2. What is the binary value of the decimal number 25 (you must show quotients and remainders to receive credit).\n",
    "\n",
    "3. What is the decimal value of the hexadecimal number F5B (you must show the addition of multiples of 16 to receive credit).\n",
    "\n",
    "4. Find the two's complement of the binary number 1010, when 4 bits are used. Note that since 1010 is the binary value of 5, its two's complement would represent -5 (you must show the inverse and addition steps to receive credit).\n",
    "\n",
    "5. Find the sum of 14 (01110) and 5 (00101) in binary, and verify that your answer in binary is equivalent to 19 (you must show the addition to receive credit).\n",
    "\n",
    "6. How many discrete values can be stored in 2 bytes of memory (you must show the math behind this calculation to receive credit)?\n",
    "\n",
    "7. Suppose that an image requires 2MB of memory. How many images can be stored on a 1 GB flash drive? Recall that 1 MB = $1024^2$ bytes and 1 GB = $1024^3$ bytes (you must show the math behind this calculation to receive credit).\n"
   ]
  },
  {
   "cell_type": "code",
   "execution_count": null,
   "metadata": {},
   "outputs": [],
   "source": []
  }
 ],
 "metadata": {
  "kernelspec": {
   "display_name": "Python 3",
   "language": "python",
   "name": "python3"
  },
  "language_info": {
   "codemirror_mode": {
    "name": "ipython",
    "version": 3
   },
   "file_extension": ".py",
   "mimetype": "text/x-python",
   "name": "python",
   "nbconvert_exporter": "python",
   "pygments_lexer": "ipython3",
   "version": "3.8.3"
  }
 },
 "nbformat": 4,
 "nbformat_minor": 2
}
