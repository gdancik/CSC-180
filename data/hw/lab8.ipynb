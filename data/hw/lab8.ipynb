{
 "cells": [
  {
   "cell_type": "markdown",
   "metadata": {
    "deletable": false,
    "editable": false
   },
   "source": [
    "# Lab 8: Comparison of Cleanup Algorithms"
   ]
  },
  {
   "cell_type": "markdown",
   "metadata": {},
   "source": [
    "### Name:"
   ]
  },
  {
   "cell_type": "markdown",
   "metadata": {
    "deletable": false,
    "editable": false
   },
   "source": [
    "## Shuffle left algorithm\n",
    "\n",
    "A function implementing the *shuffle left* algorithm is defined below. This method has a single input, which a *list* to be cleaned up. The function returns the number of valid elements in the list. After the function call, all the valid elements are at the beginning of the list."
   ]
  },
  {
   "cell_type": "code",
   "execution_count": 1,
   "metadata": {
    "deletable": false,
    "editable": false
   },
   "outputs": [],
   "source": [
    "# the shuffle left algorithm\n",
    "def shuffle_left(l) :\n",
    "    '''shuffle left on list 'l' with 0 considered invald'''\n",
    "    num_valid = len(l)\n",
    "    position = 0\n",
    "    while position < num_valid :\n",
    "        if l[position] == 0 :\n",
    "            copy_left(l, position)\n",
    "            num_valid = num_valid - 1\n",
    "        else :\n",
    "            position = position + 1        \n",
    "    return num_valid\n",
    "\n",
    "# helper function to copy left each element of 'l' starting at index 'i'\n",
    "def copy_left(l,i) :\n",
    "    '''copy left of each element starting at index 'i' '''\n",
    "    for index in range(i, len(l)-1) :\n",
    "        l[index] = l[index+1]"
   ]
  },
  {
   "cell_type": "code",
   "execution_count": null,
   "metadata": {
    "deletable": false,
    "editable": false
   },
   "outputs": [],
   "source": [
    "numbers = [0,21,19,0,18,19]\n",
    "nvalid = shuffle_left(numbers)\n",
    "print('The beginning of the list contains the', nvalid, 'valid elements: ', numbers)"
   ]
  },
  {
   "cell_type": "markdown",
   "metadata": {
    "deletable": false,
    "editable": false
   },
   "source": [
    "## Converging pointers algorithm\n",
    "\n",
    "A function implementing the *converging pointers* algorithm is defined below. This method has a single input, which a list to be cleaned up. The function returns the number of valid elements in the list. After the function call, all the valid elements are at the beginning of the list."
   ]
  },
  {
   "cell_type": "code",
   "execution_count": 3,
   "metadata": {
    "deletable": false,
    "editable": false
   },
   "outputs": [],
   "source": [
    "def converging_pointers(number) : \n",
    "    '''converging pointers algorithm on 'number' with 0 considered invalid'''   \n",
    "    left = 0\n",
    "    right = len(number) - 1\n",
    "    num_valid = len(number)\n",
    "    while left < right :\n",
    "        if number[left] != 0 :\n",
    "            left = left + 1\n",
    "        else :\n",
    "            number[left] = number[right]\n",
    "            right = right - 1\n",
    "            num_valid = num_valid - 1        \n",
    "    if number[left] == 0 :\n",
    "        num_valid = num_valid - 1\n",
    "    return num_valid"
   ]
  },
  {
   "cell_type": "code",
   "execution_count": null,
   "metadata": {
    "deletable": false,
    "editable": false
   },
   "outputs": [],
   "source": [
    "mylist = [0,21,19,0,18,19]\n",
    "nvalid = converging_pointers(mylist)\n",
    "print('The beginning of the list contains the', nvalid, 'valid elements: ', mylist)"
   ]
  },
  {
   "cell_type": "markdown",
   "metadata": {
    "deletable": false,
    "editable": false
   },
   "source": [
    "## Question 1 [5 points]\n",
    "\n",
    "Write a function that implements the copy over algorithm. This function should create and return the *copyNum* list which contains only the valid elements from the original list. For example, calling *copyOver(x)*, where *x* = [1,0,0,2] will return the list [1,2]. Recall that you can create an initial list of size *n* using the following code:\n",
    "\n",
    "```python\n",
    "copyList = [0]*n\n",
    "```"
   ]
  },
  {
   "cell_type": "code",
   "execution_count": null,
   "metadata": {},
   "outputs": [],
   "source": []
  },
  {
   "cell_type": "markdown",
   "metadata": {
    "deletable": false,
    "editable": false
   },
   "source": [
    "## Question 2 [3 points]\n",
    "\n",
    "Use your copy over function to clean up a list containing 7, 9, 0, 2, 0, and 3."
   ]
  },
  {
   "cell_type": "code",
   "execution_count": null,
   "metadata": {},
   "outputs": [],
   "source": []
  },
  {
   "cell_type": "markdown",
   "metadata": {
    "deletable": false,
    "editable": false
   },
   "source": [
    "## Question 3 [3 points]\n",
    "\n",
    "In order to test the cleanup algorithms, we will need to generate lists containing invalid values. The *create_list* function below takes a single input which is the size of the list, and returns a list containing the numbers 1 - *n* with the first 20% of the elements set to 0. Call the function to create a list of size 10."
   ]
  },
  {
   "cell_type": "code",
   "execution_count": 5,
   "metadata": {
    "deletable": false,
    "editable": false
   },
   "outputs": [],
   "source": [
    "def create_list(n) :\n",
    "    p_invalid = 0.2\n",
    "    l = list(range(1,n+1))\n",
    "    n_invalid = round(p_invalid*len(l))\n",
    "    for i in range(n_invalid) :\n",
    "        l[i] = 0\n",
    "    return l"
   ]
  },
  {
   "cell_type": "code",
   "execution_count": null,
   "metadata": {},
   "outputs": [],
   "source": []
  },
  {
   "cell_type": "markdown",
   "metadata": {
    "deletable": false,
    "editable": false
   },
   "source": [
    "### Running times for *shuffle_left* and *converging_pointers*\n",
    "\n",
    "The code below uses the *timeit* module to time the execution of the *shuffle left* and *converging pointer* algorithms, with times stored in *times1* and *times2*, respectively"
   ]
  },
  {
   "cell_type": "code",
   "execution_count": 6,
   "metadata": {
    "deletable": false,
    "editable": false
   },
   "outputs": [],
   "source": [
    "import timeit\n",
    "nvalues = list(range(1, 1000, 20))\n",
    "times1 = [0]*len(nvalues)\n",
    "times2 = [0]*len(nvalues)\n",
    "\n",
    "for i in range(len(nvalues)):\n",
    "    n = nvalues[i]\n",
    "    \n",
    "    l = create_list(n)\n",
    "    start = timeit.default_timer()\n",
    "    nv = shuffle_left(l)\n",
    "    times1[i] = timeit.default_timer() - start\n",
    "    \n",
    "    l = create_list(n)\n",
    "    start = timeit.default_timer()\n",
    "    nv = converging_pointers(l)\n",
    "    times2[i] = timeit.default_timer() - start"
   ]
  },
  {
   "cell_type": "markdown",
   "metadata": {
    "deletable": false,
    "editable": false
   },
   "source": [
    "## Question 4 [5 points]\n",
    "\n",
    "Add code below to record the execution time for the *copyOver* algorithm using the *n* values in the *nvalues* list from above. Store your results in a new list, such as *times3*."
   ]
  },
  {
   "cell_type": "code",
   "execution_count": null,
   "metadata": {},
   "outputs": [],
   "source": []
  },
  {
   "cell_type": "markdown",
   "metadata": {
    "deletable": false,
    "editable": false
   },
   "source": [
    "## Question 5 [3 points]\n",
    "\n",
    "The *plotResults* function below is used to plot the results for comparing the running times of the three algorithms. **Note**: you do not need to understand this code, only how to call the function."
   ]
  },
  {
   "cell_type": "code",
   "execution_count": 11,
   "metadata": {
    "deletable": false,
    "editable": false
   },
   "outputs": [],
   "source": [
    "import pandas as pd\n",
    "import matplotlib.pyplot as plt\n",
    "from IPython.core.pylabtools import figsize\n",
    "figsize(10, 6)\n",
    "\n",
    "def plotResults(nvalues, shuffle_left, converging, copy_over) :\n",
    "    '''plot results comparing nvalues against shuffle left, \n",
    "       converging pointers, and copy over running times'''\n",
    "    \n",
    "    df = pd.DataFrame({\n",
    "        'n': nvalues,\n",
    "        'shuffle_left': shuffle_left,\n",
    "        'converging': converging,\n",
    "        'copy_over': copy_over\n",
    "    })\n",
    "\n",
    "    fig, axes = plt.subplots(nrows=1, ncols=2)\n",
    "\n",
    "    colors = ['#1f77b4', '#ff7f0e', '#2ca02c']\n",
    "    \n",
    "    ax = df.plot(x = 'n', title = 'Comparison of cleanup algorithms', ax = axes[0],\n",
    "                color = colors)            \n",
    "    ax.set_ylabel('time (seconds)')\n",
    "\n",
    "    ax = df.plot(x = 'n', y = ['converging', 'copy_over'], ax = axes[1],\n",
    "             title = 'Comparison of converging pointers and copy over algorithms',\n",
    "                color = colors[1:])\n",
    "    ax.set_ylabel('time (seconds)')\n",
    "    ax.ticklabel_format(style='plain')\n",
    "\n",
    "    plt.tight_layout()"
   ]
  },
  {
   "cell_type": "markdown",
   "metadata": {
    "deletable": false,
    "editable": false
   },
   "source": [
    "**Question**: Modify the function below by replacing `None` with the list containing the *copyOver* execution times."
   ]
  },
  {
   "cell_type": "code",
   "execution_count": null,
   "metadata": {},
   "outputs": [],
   "source": [
    "plotResults(nvalues, times1, times2, None)"
   ]
  },
  {
   "cell_type": "markdown",
   "metadata": {
    "deletable": false,
    "editable": false
   },
   "source": [
    "## Question 6 [6 points]\n",
    "\n",
    "Note that because execution time depends on background processes running on your computer, there may be \"spikes\" in your graphs due to this \"noise\". Your conclusions should be based on the overall trend and should ignore any random fluctuations.\n",
    "\n",
    "(a) What is the theoretical running time of *shuffle left* and *converging pointers* for the average case, and do the graphs match the theoretical running times?\n",
    "\n",
    "(b) What is the theoretical running time of *copy over* in the average case, and does its graph match its theoretical time?\n",
    "\n",
    "(c) The theoretical running times of *convergining pointers* and *copy over* are the same, in terms of magnitude. However, does one algorithm appear faster based on the graph? Is this what you expect? Why or why not?"
   ]
  },
  {
   "cell_type": "markdown",
   "metadata": {},
   "source": [
    "Type your answer here."
   ]
  },
  {
   "cell_type": "code",
   "execution_count": null,
   "metadata": {},
   "outputs": [],
   "source": []
  }
 ],
 "metadata": {
  "kernelspec": {
   "display_name": "Python 3",
   "language": "python",
   "name": "python3"
  },
  "language_info": {
   "codemirror_mode": {
    "name": "ipython",
    "version": 3
   },
   "file_extension": ".py",
   "mimetype": "text/x-python",
   "name": "python",
   "nbconvert_exporter": "python",
   "pygments_lexer": "ipython3",
   "version": "3.9.6"
  }
 },
 "nbformat": 4,
 "nbformat_minor": 5
}
