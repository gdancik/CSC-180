{
 "cells": [
  {
   "cell_type": "markdown",
   "metadata": {
    "deletable": false,
    "editable": false
   },
   "source": [
    "# Selection sort and Quicksort algorithms\n",
    "\n",
    "The *selectionSort* and *quickSort* functions are provided for learning purposes. Both functions will output relevant information that will help you understand each algorithm. You can use these functions to test your understanding of these algorithms. In particular, you should be able to do the following:\n",
    "\n",
    "1. For *selectionSort*, what elements get swapped and what are the values of the list elements after each iteration of the outer loop.\n",
    "\n",
    "2. For *quickSort*, specify the values of the list elements after each *partition*, and construct a tree that shows how the original list is divided into smaller lists which are then sorted.\n"
   ]
  },
  {
   "cell_type": "markdown",
   "metadata": {
    "deletable": false,
    "editable": false
   },
   "source": [
    "### Select sort function"
   ]
  },
  {
   "cell_type": "code",
   "execution_count": 23,
   "metadata": {
    "deletable": false,
    "editable": false
   },
   "outputs": [],
   "source": [
    "def selectionSort(mylist) :\n",
    "\n",
    "    print('original list: ', mylist)\n",
    "    \n",
    "    n = len(mylist)\n",
    "    \n",
    "    # work backwards with end index = n - 1, n - 2, ..., 2\n",
    "    for end in range(n-1, 0,-1) :\n",
    "            \n",
    "        # find max of mylist[0] through mylist[end]\n",
    "        print('\\tLooking for max of', mylist[:end+1], '(from index 0 - ' + str(end) + ')')\n",
    "        max_index = 0    \n",
    "        for i in range(end+1) :\n",
    "            if mylist[i] > mylist[max_index] :\n",
    "                max_index = i\n",
    "        \n",
    "        print('\\tFound max of', mylist[max_index], 'at index', max_index)\n",
    "        \n",
    "        # swap mylist[max_index] and mylist[end]        \n",
    "        print('\\tSwapping max with', mylist[end], 'at index', end)\n",
    "        tmp = mylist[max_index]\n",
    "        mylist[max_index] = mylist[end]\n",
    "        mylist[end] = tmp\n",
    "        \n",
    "        print('updated list:  ', mylist)   \n",
    "    "
   ]
  },
  {
   "cell_type": "markdown",
   "metadata": {
    "deletable": false,
    "editable": false
   },
   "source": [
    "### Selection sort: example function call"
   ]
  },
  {
   "cell_type": "code",
   "execution_count": 25,
   "metadata": {},
   "outputs": [
    {
     "name": "stdout",
     "output_type": "stream",
     "text": [
      "original list:  [11, 21, 18, 3, 15, 19]\n",
      "\tLooking for max of [11, 21, 18, 3, 15, 19] (from index 0 - 5)\n",
      "\tFound max of 21 at index 1\n",
      "\tSwapping max with 19 at index 5\n",
      "updated list:   [11, 19, 18, 3, 15, 21]\n",
      "\tLooking for max of [11, 19, 18, 3, 15] (from index 0 - 4)\n",
      "\tFound max of 19 at index 1\n",
      "\tSwapping max with 15 at index 4\n",
      "updated list:   [11, 15, 18, 3, 19, 21]\n",
      "\tLooking for max of [11, 15, 18, 3] (from index 0 - 3)\n",
      "\tFound max of 18 at index 2\n",
      "\tSwapping max with 3 at index 3\n",
      "updated list:   [11, 15, 3, 18, 19, 21]\n",
      "\tLooking for max of [11, 15, 3] (from index 0 - 2)\n",
      "\tFound max of 15 at index 1\n",
      "\tSwapping max with 3 at index 2\n",
      "updated list:   [11, 3, 15, 18, 19, 21]\n",
      "\tLooking for max of [11, 3] (from index 0 - 1)\n",
      "\tFound max of 11 at index 0\n",
      "\tSwapping max with 3 at index 1\n",
      "updated list:   [3, 11, 15, 18, 19, 21]\n"
     ]
    },
    {
     "data": {
      "text/plain": [
       "[3, 11, 15, 18, 19, 21]"
      ]
     },
     "execution_count": 25,
     "metadata": {},
     "output_type": "execute_result"
    }
   ],
   "source": [
    "x = [11, 21, 18, 3, 15, 19]\n",
    "selectionSort(x)\n",
    "x"
   ]
  },
  {
   "cell_type": "markdown",
   "metadata": {
    "deletable": false,
    "editable": false
   },
   "source": [
    "### Quick sort and partition functions"
   ]
  },
  {
   "cell_type": "code",
   "execution_count": 20,
   "metadata": {
    "deletable": false,
    "editable": false
   },
   "outputs": [],
   "source": [
    "# This function partitions the array between elements arr[low] and arr[high-1] based\n",
    "# on the pivot element which is taken to be arr[high]. After this function is called\n",
    "# the pivot is positioned correctly so that all elements < pivot are to its left,\n",
    "# and all elements > pivot are to its right. The function returns the index of the\n",
    "# pivot element at its final position\n",
    "def partition(arr,low,high): \n",
    "    \n",
    "    print('looking at list:',  arr[low:high+1]) #, '(', low, ',', high, ')')\n",
    "    left  = low    # index of left element\n",
    "    right = high -1   # index of right element\n",
    "    pivot = arr[high]    # pivot \n",
    "    print('\\tselected pivot is:', pivot)\n",
    "\n",
    "    while left <= right :\n",
    "        \n",
    "        # increase left index while arr[left] is < pivot\n",
    "        while left <= right and arr[left] <= pivot :      \n",
    "            left = left + 1            \n",
    "    \n",
    "        # decrease right index while arr[right] > pivot\n",
    "        while left <= right and arr[right] > pivot:            \n",
    "            right = right - 1          \n",
    "                    \n",
    "        # swap elements\n",
    "        if left < right :            \n",
    "            arr[left], arr[right] = arr[right], arr[left]\n",
    "            left = left + 1\n",
    "            right = right - 1\n",
    "    \n",
    "    \n",
    "    arr[left], arr[high] = arr[high], arr[left]\n",
    "    \n",
    "    print(\"\\tafter swaps: \", arr[low:high+1], '-- full list is:', arr)\n",
    "    print('\\tpivot in correct position at index:', left)\n",
    "    return left\n",
    "\n",
    "\n",
    "\n",
    "# quicksort function: partitions the data and recursively calls quicksort on L1 and L2\n",
    "def quickSort(arr,low = None, high = None):\n",
    "    \n",
    "    if low == None :\n",
    "        low = 0\n",
    "    if high == None :\n",
    "        high = len(arr)-1\n",
    "        \n",
    "    if low < high: \n",
    "\n",
    "        # pi is partitioning index, arr[p] is now \n",
    "        # at right place \n",
    "        pi = partition(arr,low,high)        \n",
    "               \n",
    "        # Separately sort elements before \n",
    "        # partition and after partition \n",
    "        quickSort(arr, low, pi-1)      \n",
    "        quickSort(arr, pi+1, high) \n",
    "    \n",
    "\n",
    "        "
   ]
  },
  {
   "cell_type": "markdown",
   "metadata": {},
   "source": [
    "### Quick sort: example function call"
   ]
  },
  {
   "cell_type": "code",
   "execution_count": 31,
   "metadata": {},
   "outputs": [
    {
     "name": "stdout",
     "output_type": "stream",
     "text": [
      "looking at list: [9, 5, 1, 7, 2, 6, 4]\n",
      "\tselected pivot is: 4\n",
      "\tafter swaps:  [2, 1, 4, 7, 9, 6, 5] -- full list is: [2, 1, 4, 7, 9, 6, 5]\n",
      "\tpivot in correct position at index: 2\n",
      "looking at list: [2, 1]\n",
      "\tselected pivot is: 1\n",
      "\tafter swaps:  [1, 2] -- full list is: [1, 2, 4, 7, 9, 6, 5]\n",
      "\tpivot in correct position at index: 0\n",
      "looking at list: [7, 9, 6, 5]\n",
      "\tselected pivot is: 5\n",
      "\tafter swaps:  [5, 9, 6, 7] -- full list is: [1, 2, 4, 5, 9, 6, 7]\n",
      "\tpivot in correct position at index: 3\n",
      "looking at list: [9, 6, 7]\n",
      "\tselected pivot is: 7\n",
      "\tafter swaps:  [6, 7, 9] -- full list is: [1, 2, 4, 5, 6, 7, 9]\n",
      "\tpivot in correct position at index: 5\n"
     ]
    },
    {
     "data": {
      "text/plain": [
       "[1, 2, 4, 5, 6, 7, 9]"
      ]
     },
     "execution_count": 31,
     "metadata": {},
     "output_type": "execute_result"
    }
   ],
   "source": [
    "s = [9,5,1,7,2,6,4]\n",
    "quickSort(s)\n",
    "s"
   ]
  },
  {
   "cell_type": "code",
   "execution_count": null,
   "metadata": {},
   "outputs": [],
   "source": []
  }
 ],
 "metadata": {
  "kernelspec": {
   "display_name": "Python 3",
   "language": "python",
   "name": "python3"
  },
  "language_info": {
   "codemirror_mode": {
    "name": "ipython",
    "version": 3
   },
   "file_extension": ".py",
   "mimetype": "text/x-python",
   "name": "python",
   "nbconvert_exporter": "python",
   "pygments_lexer": "ipython3",
   "version": "3.8.3"
  }
 },
 "nbformat": 4,
 "nbformat_minor": 4
}
