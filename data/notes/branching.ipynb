{
 "cells": [
  {
   "cell_type": "markdown",
   "metadata": {
    "deletable": false,
    "editable": false
   },
   "source": [
    "# Boolean values and Branching"
   ]
  },
  {
   "cell_type": "markdown",
   "metadata": {
    "deletable": false,
    "editable": false
   },
   "source": [
    "## Boolean values\n",
    "\n",
    "One type of variable that we have not talked about yet is the *boolean* value, which is either *True* or *False*. In Python a variable can be set directly to ```True``` or ```False``` (note that the first character is capitalized). We can also use *boolean expressions* (or conditions) that evaluate to *True* or *False*, and can assign the result of a boolean expression to a varible."
   ]
  },
  {
   "cell_type": "code",
   "execution_count": null,
   "metadata": {
    "deletable": false,
    "editable": false
   },
   "outputs": [],
   "source": [
    "3 > 5"
   ]
  },
  {
   "cell_type": "code",
   "execution_count": null,
   "metadata": {
    "deletable": false,
    "editable": false
   },
   "outputs": [],
   "source": [
    "x = True\n",
    "x"
   ]
  },
  {
   "cell_type": "code",
   "execution_count": null,
   "metadata": {
    "deletable": false,
    "editable": false
   },
   "outputs": [],
   "source": [
    "x = 500\n",
    "bigNumber = x > 100\n",
    "bigNumber"
   ]
  },
  {
   "cell_type": "markdown",
   "metadata": {
    "deletable": false,
    "editable": false
   },
   "source": [
    "## Branching\n",
    "\n",
    "Recall that in our discussion with algorithms, we covered two types of *control* operations, conditional statements and iteration. A *conditional statement* allowed us to ask a question and select from a set of alternative options. This is accomplished in programming through branching.\n",
    "\n",
    "*Branching* is a programming concept where the program will follow a particular path (out of multiple possible paths) based on one or more conditions. For example, some statements may be executed only if a condition is True.\n",
    "\n",
    "### if-else statements\n",
    "For example, consider the calculation for a worker's weekly gross pay, when the worker earns time-and-a-half for overtime (working more than 40 hours). In this case, we need to choose the correct formula based on whether or not the person has worked more than 40 hours.\n",
    "\n",
    "Pseudocode for the pay calculation is as follows:\n",
    "\n",
    "- If the person does not work overtime (e.g., if $hours \\le 40$), then\n",
    "\n",
    "    &nbsp;&nbsp;&nbsp;$pay \\leftarrow hours\\times rate$\n",
    "  \n",
    "  \n",
    "- otherwise, \n",
    "\n",
    "    $pay \\leftarrow 40\\times rate + 1.5\\times rate\\times(hours-40)$\n",
    "     \n",
    "This logic is implemented in *Python* using an *if-else* statement, and has the following form:\n",
    "\n",
    "```python\n",
    "if (condition) :\n",
    "      # statements to execute if condition is true\n",
    "else :\n",
    "     # statements to execute if condition is false\n",
    "```\n",
    "\n",
    "The code below calculates a person's weekly gross pay based on the specified *hours* and *rate* (hourly wage).\n",
    "When specifying *if-else* statements, you must place a colon after each condition or after the *else* clause. The colon marks the beginning of a code block (or *suite*), that contains one more more statements executed if the condition is *true*, or if the condition if *false* (for the *else* suite). "
   ]
  },
  {
   "cell_type": "code",
   "execution_count": null,
   "metadata": {
    "deletable": false,
    "editable": false
   },
   "outputs": [],
   "source": [
    "hours = 46.5\n",
    "rate = 10.50\n",
    "if hours <= 40 :\n",
    "    print('Using base formula, pay =  hours * rate')\n",
    "    pay = hours*rate\n",
    "else:\n",
    "    print('Using overtime formula')\n",
    "    pay = 40*rate + (hours-40)*1.5*rate\n",
    "    \n",
    "print()\n",
    "print('Weekly gross pay for ', hours, ' hours at $',rate, ' per hour: $', pay, sep = '')"
   ]
  },
  {
   "cell_type": "code",
   "execution_count": null,
   "metadata": {},
   "outputs": [],
   "source": [
    "# Here we format the output using f-strings; for more information see \n",
    "# https://www.datacamp.com/community/tutorials/f-string-formatting-in-python\n",
    "print(f'Weekly gross pay for {hours} hours at ${rate:.2f} per hour: ${pay:.2f}')"
   ]
  },
  {
   "cell_type": "markdown",
   "metadata": {
    "deletable": false,
    "editable": false
   },
   "source": [
    "In Python, all statements within a *suite* must begin with the same number of spaces. What happens if you change the number of spaces before the first *print* statement?"
   ]
  },
  {
   "cell_type": "code",
   "execution_count": null,
   "metadata": {},
   "outputs": [],
   "source": [
    "hours = 46.5\n",
    "rate = 10.50\n",
    "if hours <= 40 :\n",
    "    print('Using base formula, pay =  hours * rate')\n",
    "    pay = hours*rate\n",
    "else:\n",
    "    print('Using overtime formula')\n",
    "    pay = 40*rate + (hours-40)*1.5*rate\n",
    "    \n",
    "print()\n",
    "print(f'Weekly gross pay for {hours} hours at ${rate:.2f} per hour: ${pay:.2f}')"
   ]
  },
  {
   "cell_type": "markdown",
   "metadata": {
    "deletable": false,
    "editable": false
   },
   "source": [
    "### Exercise\n",
    "The method *math.sqrt(x)* from the *math* module can be used to find the square root of a number."
   ]
  },
  {
   "cell_type": "code",
   "execution_count": null,
   "metadata": {
    "deletable": false,
    "editable": false
   },
   "outputs": [],
   "source": [
    "import math\n",
    "math.sqrt(16)"
   ]
  },
  {
   "cell_type": "markdown",
   "metadata": {},
   "source": [
    "Write code below to find the square root of a number if it is non-negative (i.e., >= 0); otherwise\n",
    "output 'no real number solution'. We want to follow the algorithm below:\n",
    "\n",
    "1. num1 $\\leftarrow$ get number from user\n",
    "2. if num1 is non-negative then do step 3\n",
    "3. &nbsp;&nbsp;&nbsp;&nbsp; result $\\leftarrow$ square root of *num1*\n",
    "4. else do step 5\n",
    "5. &nbsp;&nbsp;&nbsp;&nbsp; output 'no real number solution'"
   ]
  },
  {
   "cell_type": "code",
   "execution_count": null,
   "metadata": {},
   "outputs": [],
   "source": []
  },
  {
   "cell_type": "markdown",
   "metadata": {
    "deletable": false,
    "editable": false
   },
   "source": [
    "The *else* statement is optional, and should not be included if your code has the form:\n",
    "\n",
    "```python\n",
    "if condition :\n",
    "    # statements to execute if condition is true\n",
    "else :\n",
    "    # do nothing\n",
    "\n",
    "```\n",
    "For example, below is an algorithm for finding the maximum of two numbers. The subsequent code sets *maxNum* to the maximum of *num1* and *num2*. "
   ]
  },
  {
   "cell_type": "markdown",
   "metadata": {},
   "source": [
    "### Algorithm for finding the max of 2 numbers\n",
    "\n",
    "Assume that the numbers are stored in *num1* and *num2*\n",
    "\n",
    "1. set *maxNum* $\\leftarrow$ *num1*\n",
    "2. if *num2* > *maxNum*, then set *maxNum* $\\leftarrow$ *num2*"
   ]
  },
  {
   "cell_type": "markdown",
   "metadata": {},
   "source": [
    "### Code to find the max of 2 numbers"
   ]
  },
  {
   "cell_type": "code",
   "execution_count": null,
   "metadata": {},
   "outputs": [],
   "source": [
    "# set max numbers\n",
    "num1 = 13\n",
    "num2 = 35"
   ]
  },
  {
   "cell_type": "code",
   "execution_count": null,
   "metadata": {
    "deletable": false,
    "editable": false
   },
   "outputs": [],
   "source": [
    "# set maxNum to num1\n",
    "maxNum = num1\n",
    "\n",
    "# if num2 is greater than num1, set maxNum to num2\n",
    "if num2 > num1 :\n",
    "     maxNum = num2\n",
    "\n",
    "# returning max number\n",
    "maxNum"
   ]
  },
  {
   "cell_type": "markdown",
   "metadata": {
    "deletable": false,
    "editable": false
   },
   "source": [
    "### if-elseif-else statements\n",
    "\n",
    "The *elif* clause can be used when there are 2 or more branches, and has the following form:\n",
    "    \n",
    "```python\n",
    "if condition1 :\n",
    "      # statements to execute if condition1 is true\n",
    "elif condition2 :\n",
    "     # statements to execute if condition2 is true (and all previous conditions are false)\n",
    "elif condition3 :\n",
    "     # statements to execute if condition3 is true (and all previous conditions are false)\n",
    "elif condition4 :\n",
    "     # statements to execute if condition4 is true (and all previous conditions are false)\n",
    "else :\n",
    "     # statements to execute if all previous conditions are false\n",
    "```\n",
    "\n",
    "Any number of *elif* statements can be specified after the *if* statement suite. The *else* statement is optional, but if included must be at the end. The code below uses the *if...elseif...else* construct to output whether a number is positive, negative, or zero. Note that `elif num == 0` could be used in place of the *else*.\n"
   ]
  },
  {
   "cell_type": "code",
   "execution_count": null,
   "metadata": {
    "deletable": false,
    "editable": false
   },
   "outputs": [],
   "source": [
    "num = int(input('Enter a number: '))\n",
    "if num > 0 :\n",
    "    print('The number', num, 'is positive.')\n",
    "elif num < 0 :\n",
    "    print('The number', num, 'is negative.')\n",
    "else :\n",
    "    print('The number is zero.')"
   ]
  },
  {
   "cell_type": "markdown",
   "metadata": {},
   "source": [
    "## Equality and relational operators\n",
    "\n",
    "The relational operators are as follows:\n",
    "- a == b returns True if 'a' is equal to 'b'\n",
    "- a < b returns True if 'a' is less than 'b'\n",
    "- a <= b returns True if 'a' is less than or equal to 'b'\n",
    "- a > b returns True if 'a' is greater than 'b'\n",
    "- a >= b returns True if 'a' is greater than or equal to 'b'\n",
    "- a != b returns True if 'a' is not equal to 'b'\n",
    "\n",
    "It is important to always use `==` to test for equality (because a single equal sign is used for assignment)\n",
    "\n",
    "The above relational operators can be used for numbers and strings (comparison is alphabetical)."
   ]
  },
  {
   "cell_type": "code",
   "execution_count": null,
   "metadata": {
    "deletable": false,
    "editable": false
   },
   "outputs": [],
   "source": [
    "# use '==' to test whether x is equal to 4\n",
    "x = 5\n",
    "if x == 4:\n",
    "    print(\"x is equal to 4\")\n",
    "else :\n",
    "    print('x is not equal to 4')"
   ]
  },
  {
   "cell_type": "code",
   "execution_count": null,
   "metadata": {
    "deletable": false,
    "editable": false
   },
   "outputs": [],
   "source": [
    "# using a single equal sign will cause an error\n",
    "x = 5\n",
    "if x = 4:\n",
    "    print(\"x is equal to 4\")\n",
    "else :\n",
    "    print('x is not equal to 4')"
   ]
  },
  {
   "cell_type": "code",
   "execution_count": null,
   "metadata": {
    "deletable": false,
    "editable": false
   },
   "outputs": [],
   "source": [
    "# use '==' to test for equality among strings\n",
    "answer = input('What is the capital of CT? ')\n",
    "answer = answer.capitalize() # convert to proper format\n",
    "if answer == 'Hartford' :\n",
    "    print('Your answer is Correct!')\n",
    "else :\n",
    "    print('Wrong! The capital of CT is Hartford.')"
   ]
  },
  {
   "cell_type": "markdown",
   "metadata": {
    "deletable": false,
    "editable": false
   },
   "source": [
    "## Turtle example\n",
    "\n",
    "Below we use an *if* statement to alternate between 'black' and 'red' line colors"
   ]
  },
  {
   "cell_type": "markdown",
   "metadata": {},
   "source": [
    "Install the module (if not installed you will need to restart Python after this step)"
   ]
  },
  {
   "cell_type": "code",
   "execution_count": null,
   "metadata": {},
   "outputs": [],
   "source": [
    "!pip3 install ColabTurtle"
   ]
  },
  {
   "cell_type": "markdown",
   "metadata": {},
   "source": [
    "Load the module"
   ]
  },
  {
   "cell_type": "code",
   "execution_count": null,
   "metadata": {
    "deletable": false,
    "editable": false
   },
   "outputs": [],
   "source": [
    "from ColabTurtle.Turtle import *"
   ]
  },
  {
   "cell_type": "markdown",
   "metadata": {
    "deletable": false,
    "editable": false
   },
   "source": [
    "**Note**: The code below uses a *for* loop and a *range* object to iterate through a set of numbers. We will look at *range* more closely in a later section that covers *loops*."
   ]
  },
  {
   "cell_type": "code",
   "execution_count": null,
   "metadata": {
    "deletable": false,
    "editable": false
   },
   "outputs": [],
   "source": [
    "initializeTurtle()\n",
    "speed(10)\n",
    "\n",
    "# TO DO: add code below to let the user hide the turtle\n",
    "# 1. hide <-- get a new value for hide from the user (Y/N) for whether to hide the turtle\n",
    "# 2. if hide = Yes then\n",
    "# 3.       hide the turtle\n",
    "\n",
    "\n",
    "# the turtle starts at (400,400), we therefore start 300 units to the left (at 100) and end \n",
    "# at 300 units to the right (700) of the home position\n",
    "\n",
    "# for x values from 100, 120, 140, .....700\n",
    "for x in range(100,700,20) :\n",
    "\n",
    "    # move the turtle to (x,100)\n",
    "    setposition(x,100)\n",
    "\n",
    "    # return home, to (400,400)\n",
    "    home()\n",
    "\n",
    "    # if the current color is white then\n",
    "    if color() == 'white' :\n",
    "        # change the color to red\n",
    "        color('red')\n",
    "    # otherwise\n",
    "    else :\n",
    "        # change the color to white\n",
    "        color('white')\n"
   ]
  },
  {
   "cell_type": "markdown",
   "metadata": {
    "deletable": false,
    "editable": false
   },
   "source": [
    "## Nested if-else statements\n",
    "\n",
    "A branch's statements can include any valid statements, including another *if-else* statement. When this happens, we say that the *if-else* statements are *nested*."
   ]
  },
  {
   "cell_type": "markdown",
   "metadata": {},
   "source": [
    "### Algorithm for adding two positive numbers (note that we will need *nested* if statements)\n",
    "\n",
    "\n",
    "- (1) Get the first positive number from the user, and store it in *num1*\n",
    "\n",
    "- (2) Compare *num1* to 0:\n",
    "\n",
    "    - (a) if *num1* > 0 then \n",
    "\n",
    "        - (i) get the second positive number from the user, and store it in *num2*\n",
    "\n",
    "        - (ii) Compare *num2* to 0:\n",
    "\n",
    "            - if num2 > 0 then \n",
    "\n",
    "                - print the sum of *num1* and *num2*\n",
    "\n",
    "            - otherwise \n",
    "\n",
    "                - print that the second number is not valid\n",
    "\n",
    "    - (b) otherwise print that the first number is not valid\n",
    "    \n",
    "\n",
    "\n",
    "    "
   ]
  },
  {
   "cell_type": "code",
   "execution_count": null,
   "metadata": {
    "deletable": false,
    "editable": false
   },
   "outputs": [],
   "source": [
    "print('This program will add two positive integers.')\n",
    "\n",
    "# prompt user to enter first positive integer\n",
    "num1 = int(input('Enter the first positive integer: '))\n",
    "print('The first number you entered is: ', num1)\n",
    "print()\n",
    "\n",
    "# if the first number is valid (i.e., is positive)\n",
    "if num1 > 0 :\n",
    "    # prompt user for second integer\n",
    "    num2 = int(input('Enter the second positive integer: '))\n",
    "    print('The second number you entered is: ', num2)\n",
    "    print()\n",
    "\n",
    "    # if the second number is valid (i.e., is positive)\n",
    "    if num2 > 0 :\n",
    "        print('The sum of', num1, 'and', num2, 'is: ', num1 + num2)\n",
    "    else :  # otherwise output error message\n",
    "        print('Error: the second number you entered is not valid.')       \n",
    "else : # otherwise output error message\n",
    "    print('Error: the first number you entered is not valid.')    "
   ]
  },
  {
   "cell_type": "code",
   "execution_count": null,
   "metadata": {},
   "outputs": [],
   "source": []
  }
 ],
 "metadata": {
  "kernelspec": {
   "display_name": "Python 3",
   "language": "python",
   "name": "python3"
  },
  "language_info": {
   "codemirror_mode": {
    "name": "ipython",
    "version": 3
   },
   "file_extension": ".py",
   "mimetype": "text/x-python",
   "name": "python",
   "nbconvert_exporter": "python",
   "pygments_lexer": "ipython3",
   "version": "3.9.6"
  }
 },
 "nbformat": 4,
 "nbformat_minor": 2
}
