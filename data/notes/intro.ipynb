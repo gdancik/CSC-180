{
 "cells": [
  {
   "cell_type": "markdown",
   "metadata": {
    "deletable": false,
    "editable": false
   },
   "source": [
    "# Quick Introduction to Algorithms and Python programming\n",
    "*Python* (https://www.python.org/) is a general purpose programming language commonly used for data science, machine learning, web applications, and other programming applications.  "
   ]
  },
  {
   "cell_type": "markdown",
   "metadata": {
    "deletable": false,
    "editable": false
   },
   "source": [
    "## Algorithms\n",
    "\n",
    "An *algorithm* is a sequence of instructions for solving a problem. A *program* is an algorithm that a computer can understand. Each step of an algorithm needs to be *effectively computable* (is able to be carried out by the person or machine). Generally, each instruction should be basic enough so that an 8 year old can understand it. It is important to remember that a computer will not do anything that you do not tell it to do.\n",
    "\n",
    "We first consider 3 computable operations:\n",
    "1. Calculate an expression (store the result in a *variable*) \n",
    "2. Get input (which is stored in a *variable*)\n",
    "3. Display output "
   ]
  },
  {
   "cell_type": "markdown",
   "metadata": {
    "deletable": false,
    "editable": false
   },
   "source": [
    "## Algorithm for adding two numbers\n",
    "\n",
    "### Version 1\n",
    "\n",
    "1. Get the first number from the user (store in *num1*)\n",
    "1. Get the second number from the user (store in *num2*)\n",
    "1. Add the two numbers together (store the result in *sum*) \n",
    "1. Output the *sum*\n",
    "\n",
    "### Version 2 (alternate notation)\n",
    "1. *num1* $\\leftarrow$ get first number from user\n",
    "1. *num2* $\\leftarrow$ get second number from user\n",
    "1. *sum* $\\leftarrow$ *num1* + *num2*\n",
    "1. Output the *sum*"
   ]
  },
  {
   "cell_type": "markdown",
   "metadata": {},
   "source": [
    "## Python code for adding two numbers\n",
    "\n",
    "Generally, each step of the algorithm is converted to one (or more) lines of code. The hashtag (`#`) denotes a *comment* in Python; anything after a hashtag is ignored by the computer."
   ]
  },
  {
   "cell_type": "code",
   "execution_count": null,
   "metadata": {},
   "outputs": [],
   "source": [
    "# get the first number from the user (and store in num1)\n",
    "num1 = int(input('Enter the first number: '))\n",
    "\n",
    "# get the second number from the user (store in num2)\n",
    "num2 = int(input('Enter the second number: '))\n",
    "\n",
    "# add the two numbers together (store the result in sum)\n",
    "sum = num1 + num2\n",
    "\n",
    "#output the sum\n",
    "print('The sum of', num1, 'and', num2, 'is: ', sum)"
   ]
  },
  {
   "cell_type": "markdown",
   "metadata": {
    "deletable": false,
    "editable": false
   },
   "source": [
    "## Printing information to the screen\n",
    "\n",
    "### Print basics\n",
    "The *print()* function is used to output information to the screen"
   ]
  },
  {
   "cell_type": "code",
   "execution_count": null,
   "metadata": {
    "deletable": false,
    "editable": false,
    "scrolled": true
   },
   "outputs": [],
   "source": [
    "print('hello world!')"
   ]
  },
  {
   "cell_type": "markdown",
   "metadata": {},
   "source": [
    "Can you print out your name?"
   ]
  },
  {
   "cell_type": "code",
   "execution_count": null,
   "metadata": {},
   "outputs": [],
   "source": []
  },
  {
   "cell_type": "markdown",
   "metadata": {
    "deletable": false,
    "editable": false
   },
   "source": [
    "We can output multiple items using *print* by separating them by commas."
   ]
  },
  {
   "cell_type": "code",
   "execution_count": null,
   "metadata": {
    "deletable": false,
    "editable": false,
    "scrolled": true
   },
   "outputs": [],
   "source": [
    "x = 3 # assign the value of 3 to 'x'\n",
    "print('The value of x is:', x)"
   ]
  },
  {
   "cell_type": "markdown",
   "metadata": {
    "deletable": false,
    "editable": false
   },
   "source": [
    "### More printing options\n",
    "\n",
    "Additional values that can passed to the *print* function include:\n",
    "- *sep*: characters that will separate each object (default value is a blank space)\n",
    "- *end*: added to the end of the output (default is a newline character, '\\n')"
   ]
  },
  {
   "cell_type": "code",
   "execution_count": null,
   "metadata": {
    "deletable": false,
    "editable": false
   },
   "outputs": [],
   "source": [
    "print('a', 'b', 'c', sep = '-')"
   ]
  },
  {
   "cell_type": "code",
   "execution_count": null,
   "metadata": {
    "deletable": false,
    "editable": false
   },
   "outputs": [],
   "source": [
    "# values are separated by spaces by default\n",
    "print('a', 'b', 'c')"
   ]
  },
  {
   "cell_type": "code",
   "execution_count": null,
   "metadata": {
    "deletable": false,
    "editable": false
   },
   "outputs": [],
   "source": [
    "# do not include a space between values\n",
    "print('a', 'b', 'c', sep = '')"
   ]
  },
  {
   "cell_type": "markdown",
   "metadata": {
    "deletable": false,
    "editable": false
   },
   "source": [
    "## Using variables to store information"
   ]
  },
  {
   "cell_type": "markdown",
   "metadata": {
    "deletable": false,
    "editable": false
   },
   "source": [
    "A *variable* is used to store the value of an object. \n",
    "\n",
    "Any cell that ends with a variable or an expression will display the corresponding value in the notebook"
   ]
  },
  {
   "cell_type": "code",
   "execution_count": null,
   "metadata": {
    "deletable": false,
    "editable": false
   },
   "outputs": [],
   "source": [
    "num1 = 4   # store the integer 4 in the variable 'num1'\n",
    "num2 = 5   # store the integer 5 in the variable 'num2'\n",
    "num1 + num2"
   ]
  },
  {
   "cell_type": "code",
   "execution_count": null,
   "metadata": {
    "deletable": false,
    "editable": false
   },
   "outputs": [],
   "source": [
    "welcome = 'hello' # store the string 'hello' in the variable 'welcome'\n",
    "welcome"
   ]
  },
  {
   "cell_type": "markdown",
   "metadata": {},
   "source": [
    "## *ColabTurtle* example\n",
    "\n",
    "We will use the *ColabTurtle* module (https://github.com/tolgaatam/ColabTurtle) for demonstrating coding concepts (and for having **fun** with graphics). \n",
    "\n",
    "The turtle understands the following commands (these actions are *computable*):\n",
    "- *penup()* and *pendown()* -  lifts the pen up from the canvas or presses it against the canvas; writing only takes place if the pen is down (the pen is initially down).\n",
    "- *forward(x)* and *backward(x)* - move forward or backwards *x* units\n",
    "- *speed(x)* - set the turtle's speed between 1 (slow) and 13 (fast)\n",
    "- *left(x)*, *right(x)* - turn left or right *x* degrees\n",
    "- *home()* - moves the turtle \"home\", which is in the middle of the canvas, e.g.,  (400,250)\n",
    "- *setposition(x,y)* - moves the turtle to (x,y) \n",
    "- *initializeTurtle* - creates a blank canvas (by default the canvas is 800 x 500 units, and the speed of the turtle is set to 4)"
   ]
  },
  {
   "cell_type": "markdown",
   "metadata": {},
   "source": [
    "### Install the *ColabTurtle* module\n",
    "\n",
    "Import the module which only needs to be done once. If you get an error with this step, let me know.\n"
   ]
  },
  {
   "cell_type": "code",
   "execution_count": null,
   "metadata": {},
   "outputs": [],
   "source": [
    "!pip3 install ColabTurtle"
   ]
  },
  {
   "cell_type": "markdown",
   "metadata": {},
   "source": [
    "### Import the *ColabTurtle* module\n",
    "\n",
    "Now we can import the module. If you get an error with this step, let me know."
   ]
  },
  {
   "cell_type": "code",
   "execution_count": null,
   "metadata": {
    "deletable": false,
    "editable": false
   },
   "outputs": [],
   "source": [
    "\n",
    "from ColabTurtle.Turtle import *\n"
   ]
  },
  {
   "cell_type": "markdown",
   "metadata": {
    "deletable": false,
    "editable": false
   },
   "source": [
    "### Initialize the turtle and test\n",
    "\n",
    "This creates the display for the turtle, who we then can move around."
   ]
  },
  {
   "cell_type": "code",
   "execution_count": null,
   "metadata": {
    "deletable": false,
    "editable": false
   },
   "outputs": [],
   "source": [
    "initializeTurtle()\n",
    "forward(100) # move turtle forward 100 units"
   ]
  },
  {
   "cell_type": "markdown",
   "metadata": {},
   "source": [
    "### Let's play with the turtle"
   ]
  },
  {
   "cell_type": "code",
   "execution_count": null,
   "metadata": {},
   "outputs": [],
   "source": [
    "initializeTurtle()"
   ]
  },
  {
   "cell_type": "markdown",
   "metadata": {},
   "source": [
    "### What is an algorithm for writing 'HI'?\n",
    "\n",
    "1. Draw an H\n",
    "2. Stop Drawing and Move Over 1 Space\n",
    "3. Draw an I\n",
    "4. Underline HI (optional)\n",
    "\n",
    "\n",
    "This is probably enough for a student to understand, but a computer (or little kid) might need more details. For example, 'Draw an H' may not be *computable*. However, more details can be provided.\n",
    "\n",
    "Algorithm to draw an 'H':\n",
    "1. Draw the left vertical line by moving up 100 units\n",
    "2. Go back 50 units to go to the middle of the left vertical line\n",
    "3. Turn right and move forward 20 units to draw the center line\n",
    "4. Turn left\n",
    "5. Draw the right vertical line by moving up 50 units, then going backwards 100 units"
   ]
  },
  {
   "cell_type": "code",
   "execution_count": null,
   "metadata": {
    "deletable": false,
    "editable": false
   },
   "outputs": [],
   "source": [
    "# initialize the turtle and set the speed\n",
    "initializeTurtle()\n",
    "speed(8)\n",
    "\n",
    "# draw an 'H'\n",
    "forward(100)    # draws the left |\n",
    "backward(50)    # go back to the middle of the line\n",
    "right(90)       # turn right\n",
    "forward(20)     # draws the middle -\n",
    "left(90)        # turn left\n",
    "forward(50)     # draw the top of the right |\n",
    "backward(100)   # draw the bottom of the right |\n",
    "\n",
    "# change position to draw an 'I'\n",
    "penup()\n",
    "right(90)\n",
    "forward(10)\n",
    "pendown()\n",
    "\n",
    "# draw an 'I'\n",
    "forward(30)   # draw bottom -\n",
    "backward(15)  \n",
    "left(90)      # turn left\n",
    "forward(100)  # draw left |\n",
    "left(90)      # turn left\n",
    "forward(15)   # draw top right -\n",
    "backward(30)  # draw top left -\n",
    "\n",
    "# underline it\n",
    "color('red')\n",
    "for i in range(5) :    \n",
    "    penup()\n",
    "    home()\n",
    "    backward(10+i*5)\n",
    "    right(90)\n",
    "    forward(i*10/2)\n",
    "    pendown()\n",
    "    forward(65 - i*10)\n",
    "    backward(65 - i*10)\n",
    "\n",
    "hideturtle()\n"
   ]
  },
  {
   "cell_type": "markdown",
   "metadata": {},
   "source": [
    "### *Functions* allow us to bundle lines of code so they can be called by name. \n",
    "\n",
    "This makes code easier to read and write. The code below includes a function for drawing an 'H', where the *height* can be specified (the default is 100 units). A function is an example of an *abstraction*, which is a common theme in Computer Science."
   ]
  },
  {
   "cell_type": "code",
   "execution_count": null,
   "metadata": {},
   "outputs": [],
   "source": [
    "def drawH(height = 100) :\n",
    "    '''Draws an H with specified height'''\n",
    "    forward(height)    # draws the left |\n",
    "    backward(height/2)    # go back to the middle of the line\n",
    "    right(90)       # turn right\n",
    "    forward(height/5)     # draws the middle -\n",
    "    left(90)        # turn left\n",
    "    forward(height/2)     # draw the top of the right |\n",
    "    backward(100)   # draw the bottom of the right\n"
   ]
  },
  {
   "cell_type": "markdown",
   "metadata": {},
   "source": [
    "Below, we use the above function to draw an 'H'."
   ]
  },
  {
   "cell_type": "code",
   "execution_count": null,
   "metadata": {},
   "outputs": [],
   "source": [
    "initializeTurtle(initial_speed = 8)\n",
    "drawH()\n"
   ]
  }
 ],
 "metadata": {
  "kernelspec": {
   "display_name": "Python 3 (ipykernel)",
   "language": "python",
   "name": "python3"
  },
  "language_info": {
   "codemirror_mode": {
    "name": "ipython",
    "version": 3
   },
   "file_extension": ".py",
   "mimetype": "text/x-python",
   "name": "python",
   "nbconvert_exporter": "python",
   "pygments_lexer": "ipython3",
   "version": "3.9.6"
  }
 },
 "nbformat": 4,
 "nbformat_minor": 2
}
