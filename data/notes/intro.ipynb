{
 "cells": [
  {
   "cell_type": "markdown",
   "metadata": {
    "deletable": false,
    "editable": false
   },
   "source": [
    "# Quick Introduction to Algorithms and Python programming\n",
    "*Python* (https://www.python.org/) is a general purpose programming language commonly used for data science, machine learning, web applications, and other programming applications.  "
   ]
  },
  {
   "cell_type": "markdown",
   "metadata": {
    "deletable": false,
    "editable": false
   },
   "source": [
    "## Algorithms\n",
    "\n",
    "An *algorithm* is a sequence of instructions for solving a problem. For programming purposes, each instruction should be *computable* (understood by a computer or programmer). Generally, each instruction should be basic enough so that an 8 year old can understand them, and it is important to remember that a computer will not do anything that you do not tell it to do."
   ]
  },
  {
   "cell_type": "markdown",
   "metadata": {
    "deletable": false,
    "editable": false
   },
   "source": [
    "## Algorithm for adding two numbers\n",
    "\n",
    "### Version 1\n",
    "\n",
    "1. Get the first number from the user, and store in *num1*\n",
    "1. Get the second number from the user, and store in *num2*\n",
    "1. Add the two numbers together, and store the result in *sum* \n",
    "1. Output the *sum*\n",
    "\n",
    "### Version 2 (alternate notation)\n",
    "1. *num1* $\\leftarrow$ get first number from user\n",
    "1. *num2* $\\leftarrow$ get second number from user\n",
    "1. *sum* $\\leftarrow$ *num1* + *num2*\n",
    "1. Output the *sum*"
   ]
  },
  {
   "cell_type": "markdown",
   "metadata": {},
   "source": [
    "## Python code for adding two numbers\n",
    "\n",
    "Generally, each step of the algorithm is converted to one (or more) lines of code."
   ]
  },
  {
   "cell_type": "code",
   "execution_count": null,
   "metadata": {},
   "outputs": [],
   "source": [
    "# get the first number from the user, and store in num1\n",
    "num1 = int(input('Enter the first number: '))\n",
    "\n",
    "# get the second number from the user, and store in num2\n",
    "num2 = int(input('Enter the second number: '))\n",
    "\n",
    "# add the two numbers together, and store the result in sum\n",
    "sum = num1 + num2\n",
    "\n",
    "#output the sum\n",
    "print('The sum of', num1, 'and', num2, 'is: ', sum)"
   ]
  },
  {
   "cell_type": "markdown",
   "metadata": {
    "deletable": false,
    "editable": false
   },
   "source": [
    "## Printing information to the screen\n",
    "\n",
    "### Print basics\n",
    "The *print()* function is used to output information to the screen"
   ]
  },
  {
   "cell_type": "code",
   "execution_count": null,
   "metadata": {
    "deletable": false,
    "editable": false,
    "scrolled": true
   },
   "outputs": [],
   "source": [
    "print('hello world!')"
   ]
  },
  {
   "cell_type": "code",
   "execution_count": null,
   "metadata": {},
   "outputs": [],
   "source": [
    "# can you print out your name?"
   ]
  },
  {
   "cell_type": "markdown",
   "metadata": {
    "deletable": false,
    "editable": false
   },
   "source": [
    "We can output multiple values using *print* by separating them by commas."
   ]
  },
  {
   "cell_type": "code",
   "execution_count": null,
   "metadata": {
    "deletable": false,
    "editable": false,
    "scrolled": true
   },
   "outputs": [],
   "source": [
    "x = 3 # assign the value of 3 to 'x'\n",
    "print('The value of x is:', x)"
   ]
  },
  {
   "cell_type": "markdown",
   "metadata": {
    "deletable": false,
    "editable": false
   },
   "source": [
    "### More printing options\n",
    "\n",
    "Additional values that can passed to the *print* function include:\n",
    "- *sep*: characters that will separate each object (default value is a blank space)\n",
    "- *end*: added to the end of the output (default is a newline character, '\\n')"
   ]
  },
  {
   "cell_type": "code",
   "execution_count": null,
   "metadata": {
    "deletable": false,
    "editable": false
   },
   "outputs": [],
   "source": [
    "print('a', 'b', 'c', sep = '-')"
   ]
  },
  {
   "cell_type": "code",
   "execution_count": null,
   "metadata": {
    "deletable": false,
    "editable": false
   },
   "outputs": [],
   "source": [
    "# values are separated by spaces by default\n",
    "print('a', 'b', 'c')"
   ]
  },
  {
   "cell_type": "code",
   "execution_count": null,
   "metadata": {
    "deletable": false,
    "editable": false
   },
   "outputs": [],
   "source": [
    "# do not include a space between values\n",
    "print('a', 'b', 'c', sep = '')"
   ]
  },
  {
   "cell_type": "markdown",
   "metadata": {
    "deletable": false,
    "editable": false
   },
   "source": [
    "## Using variables to store information"
   ]
  },
  {
   "cell_type": "markdown",
   "metadata": {
    "deletable": false,
    "editable": false
   },
   "source": [
    "A *variable* is used to store the value of an object. \n",
    "\n",
    "Any cell that ends with a variable or an expression will display the corresponding value in the notebook"
   ]
  },
  {
   "cell_type": "code",
   "execution_count": null,
   "metadata": {
    "deletable": false,
    "editable": false
   },
   "outputs": [],
   "source": [
    "num1 = 4   # store the integer 4 in the variable 'num1'\n",
    "num2 = 5   # store the integer 5 in the variable 'num2'\n",
    "num1 + num2"
   ]
  },
  {
   "cell_type": "code",
   "execution_count": null,
   "metadata": {
    "deletable": false,
    "editable": false
   },
   "outputs": [],
   "source": [
    "welcome = 'hello' # store the string 'hello' in the variable 'welcome'\n",
    "welcome"
   ]
  },
  {
   "cell_type": "markdown",
   "metadata": {},
   "source": [
    "## *ipyturtle* example\n",
    "\n",
    "We will use the *ipyturtle* module (https://github.com/takluyver/mobilechelonian) for demonstrating coding concepts (and for having **fun** with graphics). \n",
    "\n",
    "The turtle understands the following commands:\n",
    "- *penup()* and *pendown()* -  lifts the pen up from the canvas or presses it against the canvas. Writing will not take place when the pen is off the canvas.\n",
    "- *forward(x)* and *backward(x)* - move forward or backwards *x* units\n",
    "- *speed(x)* - set the turtle's speed between 1 (slow) and 10 (fast)\n",
    "- *left(x)*, *right(x)* - turn left or right *x* degrees\n",
    "- *home()* - returns \"home\", which is at (200,200)\n",
    "- *setbearing(x)* - sets the bearing (direction), which is a number corresponding to up (0), right (90), down (180), or left (270).\n",
    "- *setposition(x,y,bearing)* - moves the turtle to (x,y) and optionally sets the bearing "
   ]
  },
  {
   "cell_type": "markdown",
   "metadata": {
    "deletable": false,
    "editable": false
   },
   "source": [
    "In addition, two functions are provided for formatting the *canvas*:\n",
    "- *fix_canvas_position*: fixes the *lowest* canvas so that it is always visible on the right side of the screen (useful for multiple cells or when a single cell goes off the page)\n",
    "- *reset_canvas_position*: sets all canvas positions to their default, which is below the code that creates it\n",
    "\n",
    "Note: The code works by changing the HTML format of the Turtle canvas displayed in the Jupyter Notebook. The details are beyond the scope of this course."
   ]
  },
  {
   "cell_type": "code",
   "execution_count": null,
   "metadata": {},
   "outputs": [],
   "source": [
    "from IPython import get_ipython\n",
    "\n",
    "def fix_canvas_position() :\n",
    "\n",
    "    get_ipython().run_cell_magic('js', '',\n",
    "        \"\"\"\n",
    "        $('canvas').css({\"position\": \"static\", \"border\":\"none\"});\n",
    "        $('canvas').last().css({\"position\": \"fixed\", \"top\": \"20%\", \"left\": \"60%\", \"border\": \"2px solid black\"});\n",
    "        \"\"\"\n",
    "    )\n",
    "                                    \n",
    "def reset_canvas_position() :\n",
    "    get_ipython().run_cell_magic('js', '',\n",
    "         \"\"\"\n",
    "         $('canvas').css({\"position\": \"static\", \"border\":\"none\"});\n",
    "         \"\"\"\n",
    "    )"
   ]
  },
  {
   "cell_type": "markdown",
   "metadata": {},
   "source": [
    "### Import the *Turtle* function from the *mobilechelonian* package\n",
    "\n",
    "This just needs to be done one time."
   ]
  },
  {
   "cell_type": "code",
   "execution_count": null,
   "metadata": {
    "deletable": false,
    "editable": false
   },
   "outputs": [],
   "source": [
    "from mobilechelonian import Turtle"
   ]
  },
  {
   "cell_type": "markdown",
   "metadata": {
    "deletable": false,
    "editable": false
   },
   "source": [
    "### Create the turtle (in this case we name the turtle 'ted')"
   ]
  },
  {
   "cell_type": "code",
   "execution_count": null,
   "metadata": {
    "deletable": false,
    "editable": false
   },
   "outputs": [],
   "source": [
    "ted = Turtle()"
   ]
  },
  {
   "cell_type": "markdown",
   "metadata": {},
   "source": [
    "### Let's play with the turtle"
   ]
  },
  {
   "cell_type": "code",
   "execution_count": null,
   "metadata": {
    "deletable": false,
    "editable": false
   },
   "outputs": [],
   "source": [
    "ted.forward(100)"
   ]
  },
  {
   "cell_type": "code",
   "execution_count": null,
   "metadata": {
    "deletable": false,
    "editable": false
   },
   "outputs": [],
   "source": [
    "fix_canvas_position()"
   ]
  },
  {
   "cell_type": "code",
   "execution_count": null,
   "metadata": {},
   "outputs": [],
   "source": [
    "ted = Turtle()\n",
    "fix_canvas_position()"
   ]
  },
  {
   "cell_type": "code",
   "execution_count": null,
   "metadata": {
    "deletable": false,
    "editable": false
   },
   "outputs": [],
   "source": [
    "reset_canvas_position()"
   ]
  },
  {
   "cell_type": "markdown",
   "metadata": {},
   "source": [
    "### What is an algorithm for writing 'HI'?\n",
    "\n",
    "1. Step 1"
   ]
  },
  {
   "cell_type": "code",
   "execution_count": null,
   "metadata": {
    "deletable": false,
    "editable": false
   },
   "outputs": [],
   "source": [
    "# create and configure the turtle\n",
    "t = Turtle()\n",
    "t.speed(10)\n",
    "fix_canvas_position()\n",
    "\n",
    "# move to starting location, and face up (by setting the bearing to 0)\n",
    "t.penup()\n",
    "t.setposition(80,200,0)\n",
    "\n",
    "\n",
    "# draw an 'H'\n",
    "t.pendown()\n",
    "t.forward(100)\n",
    "t.backward(50)\n",
    "t.right(90)\n",
    "t.forward(20)\n",
    "t.left(90)\n",
    "t.forward(50)\n",
    "t.backward(100)\n",
    "\n",
    "# change position to draw an 'I'\n",
    "t.penup()\n",
    "t.right(90)\n",
    "t.forward(10)\n",
    "\n",
    "# draw an 'I'\n",
    "t.pendown()\n",
    "t.forward(30)\n",
    "t.backward(15)\n",
    "t.left(90)\n",
    "t.forward(100)\n",
    "t.left(90)\n",
    "t.forward(15)\n",
    "t.backward(30)\n",
    "\n",
    "# underline it\n",
    "t.color = 'red'\n",
    "for i in range(5) :\n",
    "    t.penup()\n",
    "    t.setposition(75+i*5, 210 + i *5,90)\n",
    "    t.pendown()\n",
    "    t.forward(65 - i*5*2)\n",
    "    \n",
    "\n",
    "# go home, which is at (200,200)\n",
    "t.penup()\n",
    "t.home()"
   ]
  },
  {
   "cell_type": "code",
   "execution_count": null,
   "metadata": {
    "deletable": false,
    "editable": false
   },
   "outputs": [],
   "source": [
    "reset_canvas_position()"
   ]
  },
  {
   "cell_type": "code",
   "execution_count": null,
   "metadata": {},
   "outputs": [],
   "source": []
  }
 ],
 "metadata": {
  "kernelspec": {
   "display_name": "Python 3",
   "language": "python",
   "name": "python3"
  },
  "language_info": {
   "codemirror_mode": {
    "name": "ipython",
    "version": 3
   },
   "file_extension": ".py",
   "mimetype": "text/x-python",
   "name": "python",
   "nbconvert_exporter": "python",
   "pygments_lexer": "ipython3",
   "version": "3.8.3"
  }
 },
 "nbformat": 4,
 "nbformat_minor": 2
}
