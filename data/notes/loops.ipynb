{
 "cells": [
  {
   "cell_type": "markdown",
   "metadata": {},
   "source": [
    "# Loops"
   ]
  },
  {
   "cell_type": "markdown",
   "metadata": {
    "deletable": false,
    "editable": false
   },
   "source": [
    "A *loop* is a programming construct that allows you to repeat a block (or suite) of code multiple times. There are two types of loops in *Python*, and we consider three general use cases:\n",
    "\n",
    "- to repeat a block of code while a condition is true (*while* loop)\n",
    "    - example: prompt the user to enter a number, and repeat if the number entered is not valid (e.g., is not in the correct range)\n",
    "- repeat a block of code for each element in a sequence (*for* loop)\n",
    "    - example: find the length of each word in a list of words\n",
    "- repeat a block of code a specific number of times (*for* loop with *range* function)\n",
    "    - example: allow the user to enter 3 numbers\n",
    "\n",
    "## *while* loops ##\n",
    "\n",
    "A *while* loop specifies statements to repeat while a condition is true, and has the form\n",
    "\n",
    "```python\n",
    "while condition :\n",
    "    # statements to repeat while condition is true\n",
    "    # statements to repeat while condition is true\n",
    "    # ...    \n",
    "```\n",
    "\n",
    "In the code below, the loop repeats as long as the number entered by the user is not negative. In other words, the loop repeats until a negative number is entered."
   ]
  },
  {
   "cell_type": "code",
   "execution_count": null,
   "metadata": {
    "deletable": false,
    "editable": false
   },
   "outputs": [],
   "source": [
    "num = 0\n",
    "while num >= 0 :\n",
    "    num = int(input('Enter a positive integer, or enter a negative number to end: '))\n",
    "    print('You entered:', num)\n",
    "\n",
    "print()\n",
    "print('Thanks for playing!')"
   ]
  },
  {
   "cell_type": "markdown",
   "metadata": {
    "deletable": false,
    "editable": false
   },
   "source": [
    "The code below uses a *while* loop to ensure a valid number is entered. The loop repeats while the number entered is negative."
   ]
  },
  {
   "cell_type": "code",
   "execution_count": null,
   "metadata": {
    "deletable": false,
    "editable": false
   },
   "outputs": [],
   "source": [
    "# prompt the user to enter their age, which is required to be a non-negative number\n",
    "age = -1\n",
    "while age < 0 :\n",
    "    age = int(input('Please enter your age: '))\n",
    "    if age < 0 :\n",
    "        print('Age cannot be negative')\n",
    "\n",
    "print('Thank you, you entered your age as:', age)"
   ]
  },
  {
   "cell_type": "markdown",
   "metadata": {
    "deletable": false,
    "editable": false
   },
   "source": [
    "## *for* loops\n",
    "\n",
    "*For* loops are used when you want to *iterate* over each element in a sequence or a container. *For* loops have the syntax:\n",
    "\n",
    "```python\n",
    "for item in sequence :\n",
    "    # statements to execute for each item in the sequence\n",
    "    # statements to execute for each item in the sequence\n",
    "    ...\n",
    "```\n",
    "\n",
    "When the sequence is a string, iteration occurs character by character. "
   ]
  },
  {
   "cell_type": "code",
   "execution_count": null,
   "metadata": {
    "deletable": false,
    "editable": false
   },
   "outputs": [],
   "source": [
    "greeting = 'hello class!'\n",
    "for ch in greeting :\n",
    "    print(ch)"
   ]
  },
  {
   "cell_type": "markdown",
   "metadata": {
    "deletable": false,
    "editable": false
   },
   "source": [
    "When the sequence is a list, iteration will be over each element."
   ]
  },
  {
   "cell_type": "code",
   "execution_count": null,
   "metadata": {
    "deletable": false,
    "editable": false
   },
   "outputs": [],
   "source": [
    "words = ['book', 'school', 'computer', 'program']\n",
    "for w in words :\n",
    "    print(w)"
   ]
  },
  {
   "cell_type": "markdown",
   "metadata": {
    "deletable": false,
    "editable": false
   },
   "source": [
    "### Exercise\n",
    "\n",
    "Write code that will output each word in the 'words' list, as well as its length."
   ]
  },
  {
   "cell_type": "code",
   "execution_count": null,
   "metadata": {},
   "outputs": [],
   "source": [
    "words = ['book', 'school', 'computer', 'program']\n",
    "for w in words :\n",
    "    print(w)"
   ]
  },
  {
   "cell_type": "markdown",
   "metadata": {
    "deletable": false,
    "editable": false
   },
   "source": [
    "## Using *for* loops with the *range* function to iterate a fixed number of times"
   ]
  },
  {
   "cell_type": "markdown",
   "metadata": {
    "deletable": false,
    "editable": false
   },
   "source": [
    "The *range* function creates a range of integers between two values:\n",
    "- `range(n)` creates a range of $n$ values from $0, 1, 2, ...n-1$\n",
    "- `range(a,b)` creates a range of values from $a$ up to but not including $b$\n",
    "- `range(a,b,s)` creates a range of values from $a$ up to but not including $b$, using a step size of $s$.\n",
    "\n",
    "The *range* function returns a special range object, which is usually used directly in the *for* loop header; however it can be converted into a list as in the example below."
   ]
  },
  {
   "cell_type": "code",
   "execution_count": null,
   "metadata": {
    "deletable": false,
    "editable": false
   },
   "outputs": [],
   "source": [
    "# create and view a range object, storing 10 values (0 - 9)\n",
    "r = range(10)\n",
    "list(r)"
   ]
  },
  {
   "cell_type": "code",
   "execution_count": null,
   "metadata": {
    "deletable": false,
    "editable": false
   },
   "outputs": [],
   "source": [
    "len(r)"
   ]
  },
  {
   "cell_type": "markdown",
   "metadata": {
    "deletable": false,
    "editable": false
   },
   "source": [
    "Therefore, if we want to repeat something *n* times, we can use a *for* loop with the form:\n",
    "\n",
    "```python\n",
    "for i in range(n) :\n",
    "    # statements to repeat each time\n",
    "    # statements to repeat each time\n",
    "    ...\n",
    "```"
   ]
  },
  {
   "cell_type": "code",
   "execution_count": null,
   "metadata": {
    "deletable": false,
    "editable": false
   },
   "outputs": [],
   "source": [
    "for i in range(10) :\n",
    "    print(i)"
   ]
  },
  {
   "cell_type": "code",
   "execution_count": null,
   "metadata": {
    "deletable": false,
    "editable": false
   },
   "outputs": [],
   "source": [
    "for i in range(1000) :\n",
    "    print(i)"
   ]
  },
  {
   "cell_type": "markdown",
   "metadata": {},
   "source": [
    "## Turtle Examples\n",
    "\n",
    "Install *ColabTurtle* if necessary."
   ]
  },
  {
   "cell_type": "code",
   "execution_count": null,
   "metadata": {},
   "outputs": [],
   "source": [
    "!pip3 install ColabTurtle"
   ]
  },
  {
   "cell_type": "markdown",
   "metadata": {},
   "source": [
    "Load ColabTurtle into Python."
   ]
  },
  {
   "cell_type": "code",
   "execution_count": 4,
   "metadata": {},
   "outputs": [],
   "source": [
    "from ColabTurtle.Turtle import *"
   ]
  },
  {
   "cell_type": "markdown",
   "metadata": {
    "deletable": false,
    "editable": false
   },
   "source": [
    "### Constructing a triangle\n",
    "\n",
    "One algorithm for constructing a triangle is as follows:\n",
    "\n",
    "- for each side of the triangle (repeat 3 times) \n",
    "    - move forward 100 units\n",
    "    - turn left 120 degrees"
   ]
  },
  {
   "cell_type": "code",
   "execution_count": null,
   "metadata": {
    "deletable": false,
    "editable": false
   },
   "outputs": [],
   "source": [
    "initializeTurtle()\n",
    "\n",
    "# Repeat 3 times\n",
    "for r in range(3) :\n",
    "    forward(100) # move forward 100 units\n",
    "    left(120) # turn left 12 degrees"
   ]
  },
  {
   "cell_type": "markdown",
   "metadata": {
    "deletable": false,
    "editable": false
   },
   "source": [
    "## Drunk Turtle\n",
    "\n",
    "This turtle will move around randomly to 20 different positions. This code uses the *random* module to generate a random integer between 0 and 800 for the x value, and between 0 and 400 for the y value (the canvas is 800 x 400 pixels)."
   ]
  },
  {
   "cell_type": "code",
   "execution_count": null,
   "metadata": {
    "deletable": false,
    "editable": false
   },
   "outputs": [],
   "source": [
    "import random\n",
    "initializeTurtle()\n",
    "speed(3)\n",
    "\n",
    "for r in range(20) :\n",
    "    x = random.randint(0,800)\n",
    "    y = random.randint(0,400)\n",
    "    setposition(x,y)"
   ]
  },
  {
   "cell_type": "markdown",
   "metadata": {
    "deletable": false,
    "editable": false
   },
   "source": [
    "### Questions\n",
    "\n",
    "1. What would happen if we went *home* after moving to position (x,y) each time?"
   ]
  },
  {
   "cell_type": "code",
   "execution_count": null,
   "metadata": {},
   "outputs": [],
   "source": []
  }
 ],
 "metadata": {
  "kernelspec": {
   "display_name": "Python 3",
   "language": "python",
   "name": "python3"
  },
  "language_info": {
   "codemirror_mode": {
    "name": "ipython",
    "version": 3
   },
   "file_extension": ".py",
   "mimetype": "text/x-python",
   "name": "python",
   "nbconvert_exporter": "python",
   "pygments_lexer": "ipython3",
   "version": "3.9.6"
  }
 },
 "nbformat": 4,
 "nbformat_minor": 2
}
