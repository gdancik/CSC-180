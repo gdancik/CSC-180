{
 "cells": [
  {
   "cell_type": "markdown",
   "metadata": {
    "deletable": false,
    "editable": false
   },
   "source": [
    "# Machine representation of data\n",
    "\n",
    "## Convert decimal to binary or hex conversion \n",
    "\n",
    "We can use the *bin* function to convert a decimal integer to binary in Python, with the result stored as a string.\n",
    "\n",
    "For example, \n",
    "```python\n",
    "bin(10)\n",
    "```\n",
    "\n",
    "returns '0b1010'. The prefix '0b' denotes that this is a binary number"
   ]
  },
  {
   "cell_type": "code",
   "execution_count": null,
   "metadata": {
    "deletable": false,
    "editable": false
   },
   "outputs": [],
   "source": [
    "bin(10)"
   ]
  },
  {
   "cell_type": "markdown",
   "metadata": {
    "deletable": false,
    "editable": false
   },
   "source": [
    "Similarly, the *hex* function can be used to convert from a decimal to a hexadecimal value. The value returned will begin with '0x', which denotes a hexadecimal representation."
   ]
  },
  {
   "cell_type": "code",
   "execution_count": null,
   "metadata": {
    "deletable": false,
    "editable": false
   },
   "outputs": [],
   "source": [
    "hex(10)"
   ]
  },
  {
   "cell_type": "markdown",
   "metadata": {
    "deletable": false,
    "editable": false
   },
   "source": [
    "### Question\n",
    "\n",
    "What is the number 47 in binary and hex?"
   ]
  },
  {
   "cell_type": "code",
   "execution_count": null,
   "metadata": {},
   "outputs": [],
   "source": []
  },
  {
   "cell_type": "markdown",
   "metadata": {
    "deletable": false,
    "editable": false
   },
   "source": [
    "## Conversion from binary/hex to decimal\n",
    "\n",
    "To convert from binary or another representation to a decimal (integer) value, we can use\n",
    "\n",
    "```python\n",
    "int(s, b)\n",
    "```\n",
    "\n",
    "where\n",
    "\n",
    "- s = the number stored as a string\n",
    "- b = the base of the number system used for s"
   ]
  },
  {
   "cell_type": "markdown",
   "metadata": {
    "deletable": false,
    "editable": false
   },
   "source": [
    "Example converting from binary to decimal (note that the second argument is 2):"
   ]
  },
  {
   "cell_type": "code",
   "execution_count": null,
   "metadata": {
    "deletable": false,
    "editable": false
   },
   "outputs": [],
   "source": [
    "int('1010',2)"
   ]
  },
  {
   "cell_type": "markdown",
   "metadata": {
    "deletable": false,
    "editable": false
   },
   "source": [
    "Example converting from hexadecimal to decimal (note that the second argument is 16)"
   ]
  },
  {
   "cell_type": "code",
   "execution_count": null,
   "metadata": {
    "deletable": false,
    "editable": false
   },
   "outputs": [],
   "source": [
    "int('AA', 16)"
   ]
  },
  {
   "cell_type": "markdown",
   "metadata": {
    "deletable": false,
    "editable": false
   },
   "source": [
    "### Question\n",
    "\n",
    "What is the decimal value of the hex number 'FF'?"
   ]
  },
  {
   "cell_type": "code",
   "execution_count": null,
   "metadata": {},
   "outputs": [],
   "source": []
  },
  {
   "cell_type": "markdown",
   "metadata": {
    "deletable": false,
    "editable": false
   },
   "source": [
    "## Unicode representation of data\n",
    "\n",
    "Each character has a unicode *code point*, which is a number assigned to each character.\n",
    "\n",
    "A computer stores this character by *encoding* this number, using an encoding method (such as ASCII, UTF-8, and others). The encoding method determines the binary representation of the number. ASCII uses 8 bits to encode data, and is therefore limited to 256 characters; UTF-8 is a variable length encoding (where different characters are represented by different numbers of bits, and can encode > 1 million characters. The first 128 Unicode characters are have the same encoding in both ASCII and UTF-8.\n",
    "\n",
    "We can use the *ord* function to get the Unicode code point (ordinal value) of a character, and *chr* to get the unicode string from a Unicode code point.\n",
    "\n",
    "See this table as a reference: https://unicode-table.com/en/. Note that on this web page, the *Unicode number* is the hexadecimal representation of the code point, while the number in the *HTML code* is the corresponding decimal value."
   ]
  },
  {
   "cell_type": "markdown",
   "metadata": {
    "deletable": false,
    "editable": false
   },
   "source": [
    "The unicode code point of 'A':"
   ]
  },
  {
   "cell_type": "code",
   "execution_count": null,
   "metadata": {
    "deletable": false,
    "editable": false
   },
   "outputs": [],
   "source": [
    "ord('A')"
   ]
  },
  {
   "cell_type": "markdown",
   "metadata": {
    "deletable": false,
    "editable": false
   },
   "source": [
    "Convert from unicode code point to character:"
   ]
  },
  {
   "cell_type": "code",
   "execution_count": null,
   "metadata": {
    "deletable": false,
    "editable": false
   },
   "outputs": [],
   "source": [
    "chr(65)"
   ]
  },
  {
   "cell_type": "markdown",
   "metadata": {
    "deletable": false,
    "editable": false
   },
   "source": [
    "Let us look at how the character 'A' is encoded, using the default encoding, which is UTF-8. The *encode* function returns a *bytes* object, which is a sequence of values corresponding to how each character in the string is represented. When printing or displaying a *bytes* object, python shows us a *printable* representation of the object (not necessarily how it is stored in memory). In this case we see that the bytes string represents the character 'A'."
   ]
  },
  {
   "cell_type": "code",
   "execution_count": null,
   "metadata": {
    "deletable": false,
    "editable": false
   },
   "outputs": [],
   "source": [
    "b = 'A'.encode()\n",
    "b"
   ]
  },
  {
   "cell_type": "markdown",
   "metadata": {
    "deletable": false,
    "editable": false
   },
   "source": [
    "But looking at the first (and only) byte, we see that it contains the integer value 65."
   ]
  },
  {
   "cell_type": "code",
   "execution_count": null,
   "metadata": {
    "deletable": false,
    "editable": false
   },
   "outputs": [],
   "source": [
    "b[0]"
   ]
  },
  {
   "cell_type": "markdown",
   "metadata": {
    "deletable": false,
    "editable": false
   },
   "source": [
    "We can get the hexadecimal representation of *b* by using the *hex* method:"
   ]
  },
  {
   "cell_type": "code",
   "execution_count": null,
   "metadata": {
    "deletable": false,
    "editable": false
   },
   "outputs": [],
   "source": [
    "b.hex()"
   ]
  },
  {
   "cell_type": "markdown",
   "metadata": {
    "deletable": false,
    "editable": false
   },
   "source": [
    "And we can get the binary representation of a bytes object, which is how the machine actually stores the data, by using the following:"
   ]
  },
  {
   "cell_type": "code",
   "execution_count": null,
   "metadata": {
    "deletable": false,
    "editable": false
   },
   "outputs": [],
   "source": [
    "bhex = b.hex()       # convert to hex\n",
    "bint = int(bhex,16)  # convert to an int\n",
    "bin(bint)            # convert to binary"
   ]
  },
  {
   "cell_type": "markdown",
   "metadata": {
    "deletable": false,
    "editable": false
   },
   "source": [
    "If we want, we can do this all in one statement:"
   ]
  },
  {
   "cell_type": "code",
   "execution_count": null,
   "metadata": {
    "deletable": false,
    "editable": false
   },
   "outputs": [],
   "source": [
    "bin(int(b.hex(),16))"
   ]
  },
  {
   "cell_type": "markdown",
   "metadata": {
    "deletable": false,
    "editable": false
   },
   "source": [
    "We can *decode* a bytes object to get get the *Unicode* character/symbol:"
   ]
  },
  {
   "cell_type": "code",
   "execution_count": null,
   "metadata": {
    "deletable": false,
    "editable": false
   },
   "outputs": [],
   "source": [
    "b.decode()"
   ]
  },
  {
   "cell_type": "markdown",
   "metadata": {
    "deletable": false,
    "editable": false
   },
   "source": [
    "To further demonstrate what is happening, we can create our own bytes object and decode it. A bytes object allows us to specify characters or hexadecimal values. For hexadecimal numbers, every two digits should be preceeded by \\x."
   ]
  },
  {
   "cell_type": "code",
   "execution_count": null,
   "metadata": {
    "deletable": false,
    "editable": false
   },
   "outputs": [],
   "source": [
    "b1 = b'\\x41'\n",
    "b1.decode()"
   ]
  },
  {
   "cell_type": "markdown",
   "metadata": {
    "deletable": false,
    "editable": false
   },
   "source": [
    "### Another example (😎)\n",
    "\n",
    "Reference: https://unicode-table.com/en/1F60E/"
   ]
  },
  {
   "cell_type": "code",
   "execution_count": null,
   "metadata": {
    "deletable": false,
    "editable": false
   },
   "outputs": [],
   "source": [
    "s = '😎'\n",
    "b = s.encode()\n",
    "print('Unicode character:', s)\n",
    "print('Unicode code point:', ord(s))\n",
    "print('UTF-8 encoding:', b)\n",
    "print('Encoded hex value:', b.hex())\n",
    "print('Encoded decimal value:', int(b.hex(), 16))\n",
    "print('Encoded binary value: ', bin(int(b.hex(),16)))"
   ]
  },
  {
   "cell_type": "markdown",
   "metadata": {
    "deletable": false,
    "editable": false
   },
   "source": [
    "Let us now convert from the numeric representation to the character:"
   ]
  },
  {
   "cell_type": "code",
   "execution_count": null,
   "metadata": {
    "deletable": false,
    "editable": false
   },
   "outputs": [],
   "source": [
    "code_point = 128526\n",
    "hex_encoding = b'\\xf0\\x9f\\x98\\x8e'\n",
    "\n",
    "print('Unicode code point:', code_point)\n",
    "print('Unicode character:', chr(code_point))\n",
    "print('Hex encoded value: ', hex_encoding)\n",
    "print('Coded value: ', hex_encoding.decode())"
   ]
  },
  {
   "cell_type": "markdown",
   "metadata": {
    "deletable": false,
    "editable": false
   },
   "source": [
    "## The encoding needs to match the decoding\n",
    "\n",
    "The *encoding* method is important. Unless specified otherwise, *encode* and *decode* use the default UTF-8 encoding method. But what happens when the decoding method does not match the encoding one? You may get a different character/symbol, or an error."
   ]
  },
  {
   "cell_type": "code",
   "execution_count": null,
   "metadata": {
    "deletable": false,
    "editable": false
   },
   "outputs": [],
   "source": [
    "print('decoded using default UTF-8 method:', hex_encoding.decode())\n",
    "print('decoded using UTF-16: ', hex_encoding.decode(encoding = 'utf-16'))\n",
    "print('decoded using ASCII: ', hex_encoding.decode(encoding = 'ascii'))"
   ]
  },
  {
   "cell_type": "markdown",
   "metadata": {
    "deletable": false,
    "editable": false
   },
   "source": [
    "### Unicode in strings\n",
    "\n",
    "In addition, we can specify characters by including their unicode code points in strings, using \\U followed by 8 hex digits."
   ]
  },
  {
   "cell_type": "code",
   "execution_count": null,
   "metadata": {
    "deletable": false,
    "editable": false
   },
   "outputs": [],
   "source": [
    "s = 'Check out this unicode code point: \\U0001F44D'\n",
    "s"
   ]
  },
  {
   "cell_type": "markdown",
   "metadata": {
    "deletable": false,
    "editable": false
   },
   "source": [
    "### Question\n",
    "\n",
    "Specify the \"Face with Party Horn and Party Hat Emoji\" (https://unicode-table.com/en/1F973/) using the following:\n",
    "\n",
    "- a unicode string\n",
    "- bytes object using its hexadecimal utf-8 value"
   ]
  },
  {
   "cell_type": "code",
   "execution_count": null,
   "metadata": {},
   "outputs": [],
   "source": []
  },
  {
   "cell_type": "markdown",
   "metadata": {
    "deletable": false,
    "editable": false
   },
   "source": [
    "## Colors\n",
    "\n",
    "Colors are often specified as RGB values, corresponding to the intensity of Red, Green, and Blue. On the Web, each color is represented by $1$ byte = $8$ bits = $2^8 = 256$ values. The total number of possible colors is therefore $256^3 = 16,777,216$. Colors can be specified either by name, by its rgb triplet (r,g,b), or as a hexadecimal value. Because Markdown cells allow for HTML/CSS, we can format text using colors as demonstrated in the following paragraphs. Note that rgb(0,0,0) is black and rgb(255,255,255) is white."
   ]
  },
  {
   "cell_type": "markdown",
   "metadata": {
    "deletable": false,
    "editable": false
   },
   "source": [
    "<p style = \"background-color: yellow\"> \n",
    "    Here we specify the color using its name\n",
    "</p>\n",
    "\n",
    "<p style = \"background-color: rgb(255,105,180)\">\n",
    "    Here we specify the color using its rgb value\n",
    "</p>\n",
    "\n",
    "<p style = \"background-color: #FF00FF\">\n",
    "   Here we specify the color using its hexadecimal value \n",
    "</p>\n",
    "\n",
    "Note that FF is equivalent to $15\\times 16^1 + 15\\times 16^0 = 255$. In the last example (magenta), we therefore have the equivalent of rgb(255,0,255):\n",
    "\n",
    "- R = FF (= 255 in decimal)\n",
    "- G = 00 (= 0 in decimal)\n",
    "- B = FF (= 255 in decimal)"
   ]
  },
  {
   "cell_type": "markdown",
   "metadata": {
    "deletable": false,
    "editable": false
   },
   "source": [
    "## Images\n",
    "\n",
    "We will look at a rainbow image with size 2064 x 1026 pixels (https://www.freepnglogos.com/images/rainbow-12383.html). Each pixel has 4 values, corresponding to a red, green, blue, and alpha (transparency) value. In this case, each pixel value is a value between 0 (no color) and 1 (maximum color). \n",
    "\n",
    "### Memory considerations\n",
    "\n",
    "The data for this image contains 2064 x 1026 x 4 = 8,470,656 values. If 1 byte is used for each value, then we require 8,470,656 bytes. This is equivalent to \n",
    "\n",
    "- 8,470,656 bytes / 1024 bytes / kB = 8272.125 kB\n",
    "- 8,470,656 bytes / 1024^2 bytes / MB = 8.08 MB\n",
    "\n",
    "Without any optimization, this is the minimum amount of memory the image requires when fully loaded into software. However, various formats (such as png) will compress the image and require less storage space. "
   ]
  },
  {
   "cell_type": "code",
   "execution_count": null,
   "metadata": {
    "deletable": false,
    "editable": false
   },
   "outputs": [],
   "source": [
    "from matplotlib import pyplot as plt\n",
    "rainbow = plt.imread(\"https://www.freepnglogos.com/uploads/rainbow-png/rainbow-png-images-colors-the-sky-png-only-0.png\")\n",
    "plt.imshow(rainbow)\n",
    "None"
   ]
  },
  {
   "cell_type": "markdown",
   "metadata": {
    "deletable": false,
    "editable": false
   },
   "source": [
    "The data is stored in a multidimensional array (we can think of an array as a table; and a multi-dimensional array as multiple tables). For each of the 1026 x 2064 pixels, we have 4 values."
   ]
  },
  {
   "cell_type": "code",
   "execution_count": null,
   "metadata": {
    "deletable": false,
    "editable": false
   },
   "outputs": [],
   "source": [
    "rainbow.shape"
   ]
  },
  {
   "cell_type": "markdown",
   "metadata": {
    "deletable": false,
    "editable": false
   },
   "source": [
    "This is the first 'row' of the image, which represents the 4 color values for each of the 2064 columns of the image "
   ]
  },
  {
   "cell_type": "code",
   "execution_count": null,
   "metadata": {
    "deletable": false,
    "editable": false
   },
   "outputs": [],
   "source": [
    "rainbow[0]"
   ]
  },
  {
   "cell_type": "markdown",
   "metadata": {
    "deletable": false,
    "editable": false
   },
   "source": [
    "The image is defined by these numeric values, which determine the colors to display. To illustrate, let's draw a black bar between rows 300 - 399. We do this by setting each pixel value to 0."
   ]
  },
  {
   "cell_type": "code",
   "execution_count": null,
   "metadata": {
    "deletable": false,
    "editable": false
   },
   "outputs": [],
   "source": [
    "r2 = rainbow.copy()\n",
    "for row in range(300,400) :\n",
    "    for col in range(r2.shape[1]) :\n",
    "        r2[row,col,0] = 0  # set R\n",
    "        r2[row,col,1] = 0  # set G\n",
    "        r2[row,col,2] = 0  # set B\n",
    "        r2[row,col,3] = 1  # alpha value (transparent = 0; opaque = 1)\n",
    "plt.imshow(r2)\n",
    "None"
   ]
  },
  {
   "cell_type": "markdown",
   "metadata": {
    "deletable": false,
    "editable": false
   },
   "source": [
    "Let's turn up the amount of blue in the rainbow:"
   ]
  },
  {
   "cell_type": "code",
   "execution_count": null,
   "metadata": {
    "deletable": false,
    "editable": false
   },
   "outputs": [],
   "source": [
    "r2 = rainbow.copy()\n",
    "for row in range(r2.shape[0]) :\n",
    "    for col in range(r2.shape[1]) :         \n",
    "        r2[row,col,2] = 1  # set B  \n",
    "plt.imshow(r2)\n",
    "None"
   ]
  },
  {
   "cell_type": "code",
   "execution_count": null,
   "metadata": {},
   "outputs": [],
   "source": []
  }
 ],
 "metadata": {
  "kernelspec": {
   "display_name": "Python 3",
   "language": "python",
   "name": "python3"
  },
  "language_info": {
   "codemirror_mode": {
    "name": "ipython",
    "version": 3
   },
   "file_extension": ".py",
   "mimetype": "text/x-python",
   "name": "python",
   "nbconvert_exporter": "python",
   "pygments_lexer": "ipython3",
   "version": "3.8.3"
  }
 },
 "nbformat": 4,
 "nbformat_minor": 4
}
