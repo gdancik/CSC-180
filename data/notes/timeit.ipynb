{
 "cells": [
  {
   "cell_type": "markdown",
   "metadata": {
    "deletable": false,
    "editable": false
   },
   "source": [
    "# Evaluating code execution using the *timeit* module\n",
    "\n",
    "## Functions\n",
    "\n",
    "A *function* is a named set of statements that can be called to execute a block of code. \n",
    "Functions may have inputs and optionally can return a value. Below is the basic structure of a function that takes one input (stored in *x*) and returns the value *value_to_return*.\n",
    "\n",
    "```python\n",
    "def function_name(x) :\n",
    "    '''doc string describing the function'''\n",
    "    # statements to execute\n",
    "    # more statements to execute\n",
    "    return value_to_return\n",
    "```\n",
    "\n",
    "A concrete example of a function for finding the sum of two numbers is given below."
   ]
  },
  {
   "cell_type": "code",
   "execution_count": 16,
   "metadata": {
    "deletable": false,
    "editable": false
   },
   "outputs": [],
   "source": [
    "def add(num1, num2) :\n",
    "    '''returns the sum of num1 and num2'''\n",
    "    return num1 + num2"
   ]
  },
  {
   "cell_type": "markdown",
   "metadata": {
    "deletable": false,
    "editable": false
   },
   "source": [
    "When the function is called, the value of the first input is passed to *num1* and the value of the second input is passed to *num2*. The variables *num1* and *num2* are referred to as *parameters* in the function definition and the corresponding inputs are called *arguments* when the function is called."
   ]
  },
  {
   "cell_type": "code",
   "execution_count": null,
   "metadata": {
    "deletable": false,
    "editable": false
   },
   "outputs": [],
   "source": [
    "add(1,2)"
   ]
  },
  {
   "cell_type": "markdown",
   "metadata": {
    "deletable": false,
    "editable": false
   },
   "source": [
    "Another example, where we are adding the value of *x* and 5."
   ]
  },
  {
   "cell_type": "code",
   "execution_count": null,
   "metadata": {
    "deletable": false,
    "editable": false
   },
   "outputs": [],
   "source": [
    "x = 1\n",
    "add(x, 5)"
   ]
  },
  {
   "cell_type": "markdown",
   "metadata": {},
   "source": [
    "Using *help* on a function (or any object in Python) will display its docstring."
   ]
  },
  {
   "cell_type": "code",
   "execution_count": null,
   "metadata": {},
   "outputs": [],
   "source": [
    "help(add)"
   ]
  },
  {
   "cell_type": "markdown",
   "metadata": {
    "deletable": false,
    "editable": false
   },
   "source": [
    "## Why we use functions\n",
    "\n",
    "In this course, we will use functions because it will be easier to manage code finding the execution time of functions rather than some number of statements that make up the function. Additionally, functions allow for modular program design, better readability of code, and easier collaboration.\n",
    "\n",
    "**Functions are an important level of abstraction in code!**\n",
    "\n",
    "A good trick for writing functions is the following:\n",
    "\n",
    "- Don't worry about the function at first. Instead, write code that captures the logic of what you want to do\n",
    "- Once the logic is correct, turn it into a function by doing the following:\n",
    "    - Add a function definition statement before the code\n",
    "    - Include any parameters (inputs) that the function will need\n",
    "    - Include a return statement, if appropriate.\n",
    "    \n",
    "### Function writing example/exercise: find the max of two integers\n",
    "\n",
    "Write a function that returns the maximum value of two integers"
   ]
  },
  {
   "cell_type": "code",
   "execution_count": null,
   "metadata": {},
   "outputs": [],
   "source": []
  },
  {
   "cell_type": "markdown",
   "metadata": {},
   "source": [
    "## Functions for finding the sum of 1 - *n*\n",
    "\n",
    "### Version 1 finds the sum using a loop"
   ]
  },
  {
   "cell_type": "code",
   "execution_count": 20,
   "metadata": {
    "deletable": false,
    "editable": false
   },
   "outputs": [],
   "source": [
    "def sum_with_loop(n) :\n",
    "    '''returns the sum of 1 -- n, using a loop for the calculation'''\n",
    "    sum = 0\n",
    "    for num in range(1,n+1) :\n",
    "        sum = sum + num\n",
    "    return sum"
   ]
  },
  {
   "cell_type": "code",
   "execution_count": null,
   "metadata": {
    "deletable": false,
    "editable": false
   },
   "outputs": [],
   "source": [
    "sum_with_loop(100)"
   ]
  },
  {
   "cell_type": "markdown",
   "metadata": {},
   "source": [
    "### Version 2 finds the sum using the formula _sum = n*(n+1)/2_"
   ]
  },
  {
   "cell_type": "code",
   "execution_count": 22,
   "metadata": {
    "deletable": false,
    "editable": false
   },
   "outputs": [],
   "source": [
    "def sum_with_formula(n) :\n",
    "    '''returns the sum of 1 -- n, using the formla n(n+1)/2'''\n",
    "    return n*(n+1)/2"
   ]
  },
  {
   "cell_type": "code",
   "execution_count": null,
   "metadata": {},
   "outputs": [],
   "source": [
    "sum_with_formula(100)"
   ]
  },
  {
   "cell_type": "markdown",
   "metadata": {
    "deletable": false,
    "editable": false
   },
   "source": [
    "## Evaluating code execution using *timeit*\n",
    "\n",
    "The *timeit* module is used to time how long it takes to execute code in Python. We will use *timeit* to find the execution time of a function call (an algorithm) as follows:\n",
    "\n",
    "```python\n",
    "# set any necessary values, i.e., algorithm inputs\n",
    "\n",
    "# start the timer  \n",
    "start = timeit.default_timer(...)  \n",
    "\n",
    "# call the function\n",
    "\n",
    "# stop the timer and calculate elapsed time\n",
    "elapsed_time = timeit.default_timer() - start  \n",
    "```\n",
    "\n",
    "The time it takes to execute the function, in seconds, will be stored in *elapsed_time*."
   ]
  },
  {
   "cell_type": "markdown",
   "metadata": {
    "deletable": false,
    "editable": false
   },
   "source": [
    "First, we need to import *timeit*."
   ]
  },
  {
   "cell_type": "code",
   "execution_count": 24,
   "metadata": {
    "deletable": false,
    "editable": false
   },
   "outputs": [],
   "source": [
    "import timeit"
   ]
  },
  {
   "cell_type": "markdown",
   "metadata": {
    "deletable": false,
    "editable": false
   },
   "source": [
    "### How many seconds does it take to add the numbers between 1 - 1,000,000 (version 1, loop)"
   ]
  },
  {
   "cell_type": "code",
   "execution_count": null,
   "metadata": {
    "deletable": false,
    "editable": false
   },
   "outputs": [],
   "source": [
    "# set any algorithmic inputs\n",
    "n = 1000000\n",
    "\n",
    "# start the timer  \n",
    "start = timeit.default_timer()\n",
    "\n",
    "# call the function\n",
    "sum = sum_with_loop(n)\n",
    "\n",
    "# stop the timer and calculate elapsed time\n",
    "time1 = timeit.default_timer() - start\n",
    "\n",
    "# display the elapsed time\n",
    "time1"
   ]
  },
  {
   "cell_type": "markdown",
   "metadata": {
    "deletable": false,
    "editable": false
   },
   "source": [
    "### How many seconds does it take to add the numbers between 1 - 1,000,000 (version 2, formula)"
   ]
  },
  {
   "cell_type": "code",
   "execution_count": null,
   "metadata": {
    "deletable": false,
    "editable": false
   },
   "outputs": [],
   "source": [
    "# set any algorithmic inputs\n",
    "n = 1000000\n",
    "\n",
    "# start the timer  \n",
    "start = timeit.default_timer()\n",
    "\n",
    "# call the function\n",
    "sum = sum_with_formula(n)\n",
    "\n",
    "# stop the timer and calculate elapsed time\n",
    "time1 = timeit.default_timer() - start\n",
    "\n",
    "# display the elapsed time\n",
    "time1"
   ]
  },
  {
   "cell_type": "markdown",
   "metadata": {
    "deletable": false,
    "editable": false
   },
   "source": [
    "### Let's compare the execution time for various values of *n*.\n",
    "\n",
    "Note that Python provides a shortcut for creating a list that contains the same value repeated a number of times. The syntax below shows how to create a list where the value *val* is repeated *num_values* times.\n",
    "\n",
    "```python\n",
    "[val]*num_values\n",
    "```\n",
    "\n",
    "Relevant to our needs, the code below creates the list [0,0,0,0]:\n",
    "\n",
    "```python\n",
    "mylist = [0]*4\n",
    "```"
   ]
  },
  {
   "cell_type": "markdown",
   "metadata": {
    "deletable": false,
    "editable": false
   },
   "source": [
    "Create a list for the values of *n* as well as corresponding lists for the running times."
   ]
  },
  {
   "cell_type": "code",
   "execution_count": 27,
   "metadata": {
    "deletable": false,
    "editable": false
   },
   "outputs": [],
   "source": [
    "# set necessary values\n",
    "nvalues = [1000, 1000000, 2000000, 4000000]\n",
    "time1 = [0]*len(nvalues)\n",
    "time2 = [0]*len(nvalues)"
   ]
  },
  {
   "cell_type": "markdown",
   "metadata": {},
   "source": [
    "Find running times using the loop method"
   ]
  },
  {
   "cell_type": "code",
   "execution_count": 28,
   "metadata": {
    "deletable": false,
    "editable": false
   },
   "outputs": [],
   "source": [
    "# for each element in the list\n",
    "for i in range(len(nvalues)) :\n",
    "\n",
    "    # start the timer\n",
    "    start = timeit.default_timer()\n",
    "\n",
    "    # call the function using the loop\n",
    "    sum = sum_with_loop(nvalues[i])\n",
    "\n",
    "    # stop the timer and record the elapsed time\n",
    "    time1[i] = timeit.default_timer() - start"
   ]
  },
  {
   "cell_type": "markdown",
   "metadata": {},
   "source": [
    "Find running times using the formula approach"
   ]
  },
  {
   "cell_type": "code",
   "execution_count": 29,
   "metadata": {
    "deletable": false,
    "editable": false
   },
   "outputs": [],
   "source": [
    "# for each element in the list\n",
    "for i in range(len(nvalues)) :\n",
    "\n",
    "    # start the timer\n",
    "    start = timeit.default_timer()\n",
    "\n",
    "    # call the function using the formula\n",
    "    sum = sum_with_formula(nvalues[i])\n",
    "\n",
    "    # stop the timer and record the elapsed time\n",
    "    time2[i] = timeit.default_timer() - start"
   ]
  },
  {
   "cell_type": "markdown",
   "metadata": {
    "deletable": false,
    "editable": false
   },
   "source": [
    "### Create a data frame (table) of our results\n",
    "\n",
    "We now have two lists: *time1* is a list of running times for executing *sum_with_loop* with each of the *nvalues*; *time2* is a list of running times for executing *sum_with_formula* with each of the *nvalues*\n",
    "\n",
    "The code below creates a *pandas* data frame. This code has the format:\n",
    "\n",
    "```python\n",
    "df = pd.DataFrame({\n",
    "    'column1_name': column1_values, \n",
    "    'column2_name': column2_values, \n",
    "    ...})\n",
    "```"
   ]
  },
  {
   "cell_type": "code",
   "execution_count": null,
   "metadata": {
    "deletable": false,
    "editable": false
   },
   "outputs": [],
   "source": [
    "import pandas as pd\n",
    "df = pd.DataFrame({\n",
    "    'n': nvalues, \n",
    "    'loop': time1, \n",
    "    'formula': time2})\n",
    "df"
   ]
  },
  {
   "cell_type": "markdown",
   "metadata": {
    "deletable": false,
    "editable": false
   },
   "source": [
    "### Graph the data\n",
    "\n",
    "Below is a function that you can use to generate a line graph of your data. The function is called using\n",
    "\n",
    "```python\n",
    "plot_results(df, n_col, title)\n",
    "```\n",
    "\n",
    "where *df* is the data frame of running times, *n_col* is a string specifying the column name that has the input sizes, and *title* is the title of the graph."
   ]
  },
  {
   "cell_type": "code",
   "execution_count": 31,
   "metadata": {
    "deletable": false,
    "editable": false
   },
   "outputs": [],
   "source": [
    "import seaborn as sns\n",
    "def plot_results(df, n_col, title) :\n",
    "    '''plots a line graph using the columns of 'df', with the 'n_col' column on the x-axis'''\n",
    "    \n",
    "    df_melt = pd.melt(df, id_vars = n_col)\n",
    "    \n",
    "    ax = sns.lineplot(x = 'n', y = 'value', hue = 'variable', data = df_melt, marker = 'o')\n",
    "    ax.get_xaxis().get_major_formatter().set_scientific(False)\n",
    "    ax.tick_params(axis = 'x', rotation = 45)\n",
    "    ax.set_title('Running time for adding numbers 1 - n')\n",
    "    ax.set_ylabel('time (seconds)')"
   ]
  },
  {
   "cell_type": "code",
   "execution_count": null,
   "metadata": {
    "deletable": false,
    "editable": false
   },
   "outputs": [],
   "source": [
    "plot_results(df, 'n', 'Running time for adding numbers 1 - n')"
   ]
  },
  {
   "cell_type": "code",
   "execution_count": null,
   "metadata": {},
   "outputs": [],
   "source": []
  }
 ],
 "metadata": {
  "kernelspec": {
   "display_name": "Python 3",
   "language": "python",
   "name": "python3"
  },
  "language_info": {
   "codemirror_mode": {
    "name": "ipython",
    "version": 3
   },
   "file_extension": ".py",
   "mimetype": "text/x-python",
   "name": "python",
   "nbconvert_exporter": "python",
   "pygments_lexer": "ipython3",
   "version": "3.9.6"
  }
 },
 "nbformat": 4,
 "nbformat_minor": 4
}
