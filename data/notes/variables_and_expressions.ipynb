{
 "cells": [
  {
   "cell_type": "markdown",
   "metadata": {},
   "source": [
    "# Variables, input, and expressions"
   ]
  },
  {
   "cell_type": "markdown",
   "metadata": {
    "deletable": false,
    "editable": false
   },
   "source": [
    "## Variable basics\n",
    "A variable is a named item used to store a value (or values). In Python you assign a value to a variable as follows:\n",
    "\n",
    "```python\n",
    "variable_name = value\n",
    "```\n",
    "\n",
    "Variable names (or identifiers) must start with a letter or underscore (_\\). They can contain letters, underscores, or numbers, and should be descriptive. Python has several *reserved keywords* (words that already have a special meaning, such as *print*) and these should not be used as a variable name. \n",
    "\n",
    "Variables can take various forms, though the form (type) is not explicitly set in Python:\n",
    "- an *int* stores an integer value\n",
    "- a *float* stores a decimal value\n",
    "- a *string* stores a sequence of characters\n",
    "- a *list* stores a list of objects (which do *not* have to be the same type)\n",
    "\n",
    "Any cell that ends with a variable or an expression will display the corresponding value in the notebook"
   ]
  },
  {
   "cell_type": "code",
   "execution_count": null,
   "metadata": {},
   "outputs": [],
   "source": [
    "x = 5  # store the integer 5 in the variable 'x'\n",
    "x"
   ]
  },
  {
   "cell_type": "code",
   "execution_count": null,
   "metadata": {
    "deletable": false,
    "editable": false
   },
   "outputs": [],
   "source": [
    "num1 = 4   # store the integer 4 in the variable 'num1'\n",
    "num2 = 5   # store the integer 5 in the variable 'num2'\n",
    "num1 + num2"
   ]
  },
  {
   "cell_type": "code",
   "execution_count": null,
   "metadata": {
    "deletable": false,
    "editable": false
   },
   "outputs": [],
   "source": [
    "welcome = 'hello' # store the string 'hello' in the variable 'welcome'\n",
    "welcome"
   ]
  },
  {
   "cell_type": "markdown",
   "metadata": {},
   "source": [
    "### Finding the type of a variable\n",
    "\n",
    "The *type* function can be used to determine the type of a variable."
   ]
  },
  {
   "cell_type": "code",
   "execution_count": null,
   "metadata": {
    "deletable": false,
    "editable": false
   },
   "outputs": [],
   "source": [
    "x = 4\n",
    "type(x)"
   ]
  },
  {
   "cell_type": "code",
   "execution_count": null,
   "metadata": {
    "deletable": false,
    "editable": false
   },
   "outputs": [],
   "source": [
    "y = 4.4\n",
    "type(y)"
   ]
  },
  {
   "cell_type": "code",
   "execution_count": null,
   "metadata": {
    "deletable": false,
    "editable": false
   },
   "outputs": [],
   "source": [
    "welcome = \"hello\"\n",
    "type(welcome)"
   ]
  },
  {
   "cell_type": "code",
   "execution_count": null,
   "metadata": {
    "deletable": false,
    "editable": false
   },
   "outputs": [],
   "source": [
    "words = ['hello', 'goodbye']\n",
    "type(words)"
   ]
  },
  {
   "cell_type": "markdown",
   "metadata": {
    "deletable": false,
    "editable": false
   },
   "source": [
    "__Note__: It is possible to overwrite reserved words. **Do not do this!**"
   ]
  },
  {
   "cell_type": "code",
   "execution_count": null,
   "metadata": {
    "deletable": false,
    "editable": false
   },
   "outputs": [],
   "source": [
    "# what happens if we assign the value 4 to 'print'?\n",
    "print = 4\n",
    "print"
   ]
  },
  {
   "cell_type": "code",
   "execution_count": null,
   "metadata": {
    "deletable": false,
    "editable": false
   },
   "outputs": [],
   "source": [
    "# the above shows that print has the value 4. But now what happens if we try to print?\n",
    "print('hello')"
   ]
  },
  {
   "cell_type": "code",
   "execution_count": null,
   "metadata": {
    "deletable": false,
    "editable": false
   },
   "outputs": [],
   "source": [
    "# Variables can be deleted using the 'del' function. \n",
    "# In the code below, we only delete 'print' if it is an integer\n",
    "if type(print) == int :\n",
    "    del(print)\n",
    "print('hello')"
   ]
  },
  {
   "cell_type": "markdown",
   "metadata": {
    "deletable": false,
    "editable": false
   },
   "source": [
    "### A variable references a location in memory where its value is stored\n",
    "\n",
    "Variables reference objects that are stored in memory. We can visualize this using https://pythontutor.com/. Click Edit Code, copy the code below, and change the \"inline primitives...\" setting to \"render all objects on the heap (Python/Java)\". The behavior will vary depending on the language, but the important point is that variables refer to objects or values in memory.\n"
   ]
  },
  {
   "cell_type": "code",
   "execution_count": null,
   "metadata": {
    "deletable": false,
    "editable": false
   },
   "outputs": [],
   "source": [
    "x = 4\n",
    "y = 5\n",
    "z = 4\n",
    "\n",
    "print(\"x =\",x)\n",
    "print(\"y =\",y)\n",
    "print(\"z =\",z)\n"
   ]
  },
  {
   "cell_type": "markdown",
   "metadata": {
    "deletable": false,
    "editable": false
   },
   "source": [
    "## User input"
   ]
  },
  {
   "cell_type": "markdown",
   "metadata": {
    "deletable": false,
    "editable": false
   },
   "source": [
    "The *input()* function is used to get input from the user through the keyboard. Note that *input()* always returns a string."
   ]
  },
  {
   "cell_type": "code",
   "execution_count": null,
   "metadata": {
    "deletable": false,
    "editable": false
   },
   "outputs": [],
   "source": [
    "x = input(\"Enter a number: \")\n",
    "print('You entered: ', x)\n",
    "print('x is of type: ', type(x))"
   ]
  },
  {
   "cell_type": "code",
   "execution_count": null,
   "metadata": {
    "deletable": false,
    "editable": false
   },
   "outputs": [],
   "source": [
    "x"
   ]
  },
  {
   "cell_type": "markdown",
   "metadata": {},
   "source": [
    "The code below generates an error because *x* is a string and 5 is an integer"
   ]
  },
  {
   "cell_type": "code",
   "execution_count": null,
   "metadata": {
    "deletable": false,
    "editable": false
   },
   "outputs": [],
   "source": [
    "x + 5"
   ]
  },
  {
   "cell_type": "markdown",
   "metadata": {
    "deletable": false,
    "editable": false
   },
   "source": [
    "### Typecasting\n",
    "\n",
    "We can convert a variable from one type to another by *casting* it using one of the functions below:\n",
    "\n",
    "- *int(x)* returns the value of 'x' converted to an integer\n",
    "- *float(x)* returns the value of 'x' converted to a float (decimal)\n",
    "- *str(x)* returns the value of 'x' converted to a string\n",
    "\n",
    "__Note:__ The conversion will raise an error if it is invalid, e.g., ``int('hi')`` will raise an error."
   ]
  },
  {
   "cell_type": "code",
   "execution_count": null,
   "metadata": {
    "deletable": false,
    "editable": false
   },
   "outputs": [],
   "source": [
    "x = int(x)\n",
    "x + 5"
   ]
  },
  {
   "cell_type": "code",
   "execution_count": null,
   "metadata": {
    "deletable": false,
    "editable": false
   },
   "outputs": [],
   "source": [
    "# often we directly cast the result from the input function.\n",
    "x = int(input('Enter a number: '))\n",
    "print('x is of type: ', type(x))\n",
    "x"
   ]
  },
  {
   "cell_type": "markdown",
   "metadata": {
    "deletable": false,
    "editable": false
   },
   "source": [
    "__Exercise:__ Prompt the user to enter their first name, which is stored in the variable *first*; then prompt the user to enter their last name, which is stored in *last*. Then output a welcome message using the person's full name. For example, if the user enters 'Amy' and 'Thompson', then your code should output: 'Hello, Amy Thompson'."
   ]
  },
  {
   "cell_type": "code",
   "execution_count": null,
   "metadata": {},
   "outputs": [],
   "source": []
  },
  {
   "cell_type": "markdown",
   "metadata": {
    "deletable": false,
    "editable": false
   },
   "source": [
    "## Arithmetic expressions\n",
    "   \n",
    "- Addition: ``x + y`` will add the values ``x`` and ``y``\n",
    "- Subtraction: ``x - y`` will subtract ``y`` from ``x``\n",
    "- Multiplication: ``x * y`` will multiply ``x`` and ``y``\n",
    "- Division: ``x / y`` will divide ``x`` by ``y``\n",
    "- Integer division: ``x // y`` returns the integer portion of ``x / y``\n",
    "- Exponentiate: ``x**y`` will raise ``x`` to the power of ``y``\n",
    "- Modulo: `` x % y `` will return the remainder when integer ``x`` is divided by integer ``y``."
   ]
  },
  {
   "cell_type": "code",
   "execution_count": null,
   "metadata": {
    "deletable": false,
    "editable": false
   },
   "outputs": [],
   "source": [
    "print('3 * 4 is equal to', 3 * 4)\n",
    "print('2 to the third power, 2**3 is equal to', 2**3)\n",
    "print()\n",
    "print('5 divided by 3 is equal to', 5/3)\n",
    "print('5 divided by 3 is equal to ', 5//3, 'with a remainder of', 5%3)"
   ]
  },
  {
   "cell_type": "code",
   "execution_count": null,
   "metadata": {
    "deletable": false,
    "editable": false
   },
   "outputs": [],
   "source": [
    "# real world application of the modulus operator\n",
    "print('125 minutes is equal to', 125 // 60, 'hours and', 125 % 60, 'minutes')"
   ]
  },
  {
   "cell_type": "markdown",
   "metadata": {
    "deletable": false,
    "editable": false
   },
   "source": [
    "__Exercise:__ Prompt the user to enter an amount of time in minutes. Then output the number of hours and minutes. For example, if the user enters 125, your code should output 2 hours and 5 minutes."
   ]
  },
  {
   "cell_type": "code",
   "execution_count": null,
   "metadata": {},
   "outputs": [],
   "source": []
  },
  {
   "cell_type": "markdown",
   "metadata": {
    "deletable": false,
    "editable": false
   },
   "source": [
    "Python follows the standard order of operations -- Remember PEMDAS? Expressions are evaluated in the following order:\n",
    "\n",
    "1. *parentheses* \n",
    "1. *exponents*\n",
    "1. *multiplication* and *division*, from left to right\n",
    "1. *addition and subtraction*, from left to right"
   ]
  },
  {
   "cell_type": "code",
   "execution_count": null,
   "metadata": {
    "deletable": false,
    "editable": false
   },
   "outputs": [],
   "source": [
    "5 + 3 * 2 - 1    # this is evaluated as 5 + (3 * 2) - 1"
   ]
  },
  {
   "cell_type": "markdown",
   "metadata": {
    "deletable": false,
    "editable": false
   },
   "source": [
    "## Turtle example"
   ]
  },
  {
   "cell_type": "code",
   "execution_count": null,
   "metadata": {
    "deletable": false,
    "editable": false
   },
   "outputs": [],
   "source": [
    "!pip3 install ColabTurtle\n",
    "from ColabTurtle.Turtle import *"
   ]
  },
  {
   "cell_type": "markdown",
   "metadata": {},
   "source": [
    "Set the width for the square (we could also use *input* to get this from the user)."
   ]
  },
  {
   "cell_type": "code",
   "execution_count": null,
   "metadata": {},
   "outputs": [],
   "source": [
    "width = 80"
   ]
  },
  {
   "cell_type": "markdown",
   "metadata": {},
   "source": [
    "Draw the square. Note: it is possible for the turtle to go outside of the canvas. In this case, part of the square will be cut off. Negative values for the width are allowed (in which case the turtle moves backwards)."
   ]
  },
  {
   "cell_type": "code",
   "execution_count": null,
   "metadata": {
    "deletable": false,
    "editable": false
   },
   "outputs": [],
   "source": [
    "# initialize the turtle\n",
    "initializeTurtle()\n",
    "speed(8)\n",
    "\n",
    "# draw the first side (the bottom side if width > 0)\n",
    "forward(width)\n",
    "\n",
    "# turn left and draw another side (the right side if width > 0)\n",
    "left(90)\n",
    "forward(width)\n",
    "\n",
    "# turn left and draw another side (the top side if width > 0)\n",
    "left(90)\n",
    "forward(width)\n",
    "\n",
    "# turn left and draw another side (the left side if width > 0)\n",
    "left(90)\n",
    "forward(width)"
   ]
  },
  {
   "cell_type": "code",
   "execution_count": null,
   "metadata": {},
   "outputs": [],
   "source": []
  }
 ],
 "metadata": {
  "kernelspec": {
   "display_name": "Python 3",
   "language": "python",
   "name": "python3"
  },
  "language_info": {
   "codemirror_mode": {
    "name": "ipython",
    "version": 3
   },
   "file_extension": ".py",
   "mimetype": "text/x-python",
   "name": "python",
   "nbconvert_exporter": "python",
   "pygments_lexer": "ipython3",
   "version": "3.9.6"
  }
 },
 "nbformat": 4,
 "nbformat_minor": 2
}
